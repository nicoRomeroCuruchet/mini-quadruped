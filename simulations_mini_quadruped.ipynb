{
  "nbformat": 4,
  "nbformat_minor": 0,
  "metadata": {
    "colab": {
      "name": "simulations_mini-quadruped.ipynb",
      "provenance": [],
      "collapsed_sections": [],
      "authorship_tag": "ABX9TyOxI5Ci0jYbw743oWJ1TtMJ",
      "include_colab_link": true
    },
    "kernelspec": {
      "display_name": "Python 3",
      "name": "python3"
    }
  },
  "cells": [
    {
      "cell_type": "markdown",
      "metadata": {
        "id": "view-in-github",
        "colab_type": "text"
      },
      "source": [
        "<a href=\"https://colab.research.google.com/github/nicoRomeroCuruchet/mini-quadruped/blob/main/simulations_mini_quadruped.ipynb\" target=\"_parent\"><img src=\"https://colab.research.google.com/assets/colab-badge.svg\" alt=\"Open In Colab\"/></a>"
      ]
    },
    {
      "cell_type": "markdown",
      "metadata": {
        "id": "5TlIg7WyuTv0"
      },
      "source": [
        "The followings code allow you generate diferents perspectives of the quadruped  results for   artitrary values of angles ψ, θ, φ and T. \n",
        "\n",
        " - In Section 1 are defined the imports and the dimensions of the quadruped: \n",
        "\n",
        "        L1: Correspond to the coxa's length.\n",
        "        L2: Correspond to the femur's lenght.\n",
        "        L3: Correspond to the tibia's lenght.\n"
      ]
    },
    {
      "cell_type": "code",
      "metadata": {
        "id": "xoQwRhIBAktD"
      },
      "source": [
        "# Section 1\n",
        "import sys\n",
        "import math\n",
        "import numpy as np\n",
        "import matplotlib.pyplot as plt\n",
        "\n",
        "# Quadrupeds dimensions:\n",
        "L1, L2, L3 = 45, 78, 77\n",
        "torso_lenght = 150\n",
        "torso_width  = 90"
      ],
      "execution_count": 21,
      "outputs": []
    },
    {
      "cell_type": "markdown",
      "metadata": {
        "id": "Pfd17Db32sJm"
      },
      "source": [
        "- In the Sectiion 2 are defined the python's functions that solve the graphs of the positions of each of the elements of the robot:     \n",
        "        \n",
        "       graph_leg_side_view: get the graph of one leg from side view.\n",
        "       graph_leg_front_or_back_view: get the graph of one leg from the front view or back view.\n",
        "       rotation: Rotation around an axe:'x', 'y' or 'z'.\n",
        "       inverse_kinematics: The inverse kinematics algorithm."
      ]
    },
    {
      "cell_type": "code",
      "metadata": {
        "id": "f8re58d-yhOk"
      },
      "source": [
        "# Section 2\n",
        "def graph_leg_side_view(gamma, sys_r, \n",
        "                        L1=L1, \n",
        "                        L2=L2, \n",
        "                        L3=L3,\n",
        "                        side='r',\n",
        "                        linestyle='solid'):\n",
        "\n",
        "    \"\"\" Get the graph of one leg of the quadruped from side view.\n",
        "\n",
        "        Parameters :\n",
        "           - gamma: (numpy array) joints' angles vector.\n",
        "           - sys_r: (numpy array) position of the leg's begining.\n",
        "           - L1: (float) Coxa's lenght.\n",
        "           - L2: (float) femur's lenght.\n",
        "           - L3: (float) tibia's lenght.\n",
        "           - side: (string) the side of the quadruped.\n",
        "           - linestyle: (string) type of the line.\n",
        "    \"\"\"\n",
        "    gamma_1 = float(gamma[0][0])  \n",
        "    gamma_2 = float(gamma[1][0])  \n",
        "    gamma_3 = float(gamma[2][0])  \n",
        "\n",
        "    s = 1 if side =='r' else -1\n",
        "\n",
        "    x0, y0, _ = float(sys_r[0][0]), float(sys_r[1][0]), float(sys_r[2][0])\n",
        "    rot_l1 = np.add(rotation('x', gamma_1, np.array([0, 0, s*L1]).reshape(3,1)), \n",
        "                                                                        sys_r)            \n",
        "    # plot coxa\n",
        "    plt.plot([x0, rot_l1[0][0]], [y0, rot_l1[1][0]], \n",
        "                                    color='r', \n",
        "                                    linestyle=linestyle, \n",
        "                                    linewidth=1.)\n",
        "    \n",
        "    rot_l2 = rotation('z', gamma_2, np.array([0,-L2, 0]).reshape(3,1))\n",
        "    rot_l2 = np.add(rotation('x', gamma_1, rot_l2), rot_l1)\n",
        "    # plor femur\n",
        "    plt.plot([rot_l1[0][0], rot_l2[0][0]], [rot_l1[1][0], rot_l2[1][0]], \n",
        "                                    color='b', \n",
        "                                    linestyle=linestyle, \n",
        "                                    linewidth=1.)\n",
        "    \n",
        "    rot_l3 = rotation('z', gamma_2+gamma_3, np.array([0,-L3, 0]).reshape(3,1))\n",
        "    rot_l3 = np.add(rotation('x', gamma_1, rot_l3), rot_l2)\n",
        "    # plot tibia\n",
        "    plt.plot([rot_l2[0][0], rot_l3[0][0]], [rot_l2[1][0], rot_l3[1][0]], \n",
        "                                    color='m', \n",
        "                                    linestyle=linestyle, \n",
        "                                    linewidth=1.)\n",
        "\n",
        "def graph_leg_front_or_back_view(gamma, \n",
        "                         sys_r,\n",
        "                         L1=L1, \n",
        "                         L2=L2, \n",
        "                         L3=L3, \n",
        "                         side='r',\n",
        "                         front=True,\n",
        "                         linestyle='solid'):\n",
        "    \n",
        "    \"\"\" Get the graph of one leg of the quadruped from the front view or\n",
        "        back view.\n",
        "\n",
        "        Parameters :\n",
        "            - gamma: (numpy array) joints' angles vector.\n",
        "            - sys_r: (numpy array) position of the leg's begining.\n",
        "            - L1: (float) Coxa's lenght.\n",
        "            - L2: (float) femur's lenght.\n",
        "            - L3: (float) tibia's lenght.\n",
        "            - side: (string) the side of the quadruped.\n",
        "            - front: (bool) True is for the front, False for the back.\n",
        "            - linestyle: (string) type of the line.\n",
        "    \"\"\"\n",
        "    gamma_1 = float(gamma[0][0])  \n",
        "    gamma_2 = float(gamma[1][0])  \n",
        "    gamma_3 = float(gamma[2][0])  \n",
        "\n",
        "    #side\n",
        "    s = 1 if side =='r' else -1\n",
        "\n",
        "    x0, y0, z0 = sys_r[0][0], sys_r[1][0], sys_r[2][0] \n",
        "\n",
        "    rot_l1 = np.add(rotation('x', gamma_1, np.array([0, 0, s*L1]).reshape(3,1)), \n",
        "                                                    sys_r)            \n",
        "\n",
        "    if side == 'l' and front  : plt.axis([rot_l1[2][0], z0, 0.01, -0.01])\n",
        "    if side == 'l' and ~front : plt.axis([rot_l1[2][0], z0, -0.01, 0.01])\n",
        "\n",
        "    plt.plot([z0, rot_l1[2][0]], [y0, rot_l1[1][0]], \n",
        "                                    color='r', \n",
        "                                    linestyle=linestyle, \n",
        "                                    linewidth=1.)\n",
        "    \n",
        "    rot_l2 = np.add(rotation('x', gamma_1, \n",
        "                             np.array([0,-L2*np.cos(gamma_2), 0]).reshape(3,1)), \n",
        "                             rot_l1)\n",
        "\n",
        "    plt.plot([rot_l1[2][0], rot_l2[2][0]], [rot_l1[1][0], rot_l2[1][0]], \n",
        "                                    color='b', \n",
        "                                    linestyle=linestyle, \n",
        "                                    linewidth=1.)\n",
        "    \n",
        "    rot_l3 = np.add(rotation('x', gamma_1, \n",
        "                              np.array([0,-L3*np.cos(gamma_2+gamma_3), 0]).reshape(3,1)), \n",
        "                              rot_l2)\n",
        "    \n",
        "    plt.plot([rot_l2[2][0], rot_l3[2][0]], [rot_l2[1][0], rot_l3[1][0]], \n",
        "                                    color='m', \n",
        "                                    linestyle=linestyle, \n",
        "                                    linewidth=1.)\n",
        "\n",
        "def rotation(axe, angle, vector):\n",
        "\n",
        "    \"\"\" Rotation around an axe:'x', 'y' or 'z' \n",
        "        Parameters:\n",
        "            - axe (string): the axis around where you want to make the rotation.\n",
        "            - angle (float): the angle in radian what you want to rotate.\n",
        "            - vector (numpy vector (3,1)): the vector to rotate.\n",
        "        Return:\n",
        "         numpy array of shape (3,1) the rotated vector an angle arround the axe.\n",
        "    \"\"\"\n",
        "\n",
        "    R = None \n",
        "    c = np.cos(angle)\n",
        "    s = np.sin(angle)\n",
        "\n",
        "    if axe == 'x':\n",
        "\n",
        "        R = np.array([[1, 0,  0],\n",
        "                      [0, c, -s],\n",
        "                      [0, s,  c]]) \n",
        "    elif axe == 'y':\n",
        "\n",
        "        R = np.array([[ c, 0, s],\n",
        "                      [ 0, 1, 0],\n",
        "                      [-s, 0, c ]])\n",
        "    elif axe == 'z':\n",
        "\n",
        "        R = np.array([[c, -s, 0],\n",
        "                      [s,  c, 0],\n",
        "                      [0,  0, 1]])\n",
        "        \n",
        "    \n",
        "    return np.round(R @ vector, 4).reshape((3,1))\n",
        "\n",
        "\n",
        "def inverse_kinematics(x, L_1, L_2, L_3, side='r'):\n",
        "\n",
        "    \"\"\" Inverse kinematics algorithm. \n",
        "        Parameters:\n",
        "            - X: (numpy array) position of the leg's tip.\n",
        "            - L1: (float) Coxa's lenght.\n",
        "            - L2: (float) femur's lenght.\n",
        "            - L3: (float) tibia's lenght.\n",
        "            - side: (string) the side of the quadruped.\n",
        "        Returun:\n",
        "            numpy vector of shape(3,1) with the angle of each joint.\n",
        "\n",
        "    \"\"\"\n",
        "\n",
        "    s = 1.0  if side == 'r' else  -1.0\n",
        "\n",
        "    x_1 = float(x[0][0])\n",
        "    x_2 = float(x[1][0])\n",
        "    x_3 = float(x[2][0])\n",
        "\n",
        "    D = (x_1**2 + x_2**2 + x_3**2 - L_1**2 - L_2**2 - L_3**2) / (2*L_2*L_3)\n",
        "    delta = np.sqrt(x_2**2 + x_3**2 - L_1**2)\n",
        "\n",
        "    if 1 - D**2 >=0:\n",
        "\n",
        "        theta_1 = np.arctan2(x_2, -x_3)  + np.arctan2(delta, -s*L_1) \n",
        "\n",
        "        theta_3 = np.arctan2(np.sqrt(1 - D**2), D)\n",
        "\n",
        "        theta_2 = np.arctan2(x_1, delta) - np.arctan2(L_3*np.sin(theta_3), \n",
        "                                                      L_2 + L_3*np.cos(theta_3))\n",
        "        \n",
        "        return np.round(np.array([theta_1, theta_2, theta_3]),4).reshape(3,1)\n",
        "    else:\n",
        "        print('this position ', x, ' is not allowed')\n",
        "        sys.exit(0)\n",
        "        return None"
      ],
      "execution_count": 22,
      "outputs": []
    },
    {
      "cell_type": "markdown",
      "metadata": {
        "id": "b8Bg6iMG4pG8"
      },
      "source": [
        "- In section 3 is calculated the position of the quadruped after performs the rotation:\n",
        "\n"
      ]
    },
    {
      "cell_type": "code",
      "metadata": {
        "id": "NBZ1thJt_DCP"
      },
      "source": [
        "# Section 3\n",
        "psi     = 0.1 \n",
        "phi     = -0.2\n",
        "theta   = 0.3\n",
        "\n",
        "R_z = np.array([[np.cos(psi), -np.sin(psi), 0],\n",
        "                [np.sin(psi),  np.cos(psi), 0],\n",
        "                [0          ,  0,           1]])\n",
        "\n",
        "R_y = np.array([[np.cos(phi),  0, np.sin(phi)],\n",
        "                [0          ,  1,           0],\n",
        "                [-np.sin(phi), 0, np.cos(phi)]])\n",
        "\n",
        "R_x = np.array([[1,        0,                          0],\n",
        "                [0,        np.cos(theta), -np.sin(theta)],\n",
        "                [0,        np.sin(theta),  np.cos(theta)]])\n",
        "\n",
        "distant_y = -80.0\n",
        "\n",
        "rf_m_l = np.array([ torso_lenght / 2  , distant_y,  L1 + torso_width / 2]).reshape(3,1)  # right front tip of the foot measure from m\n",
        "rr_m_l = np.array([-torso_lenght / 2  , distant_y,  L1 + torso_width / 2]).reshape(3,1)  # right front tip of the foot measure from m\n",
        "lf_m_l = np.array([ torso_lenght / 2  , distant_y, -L1 - torso_width / 2]).reshape(3,1)  # right front tip of the foot measure from m\n",
        "lr_m_l = np.array([-torso_lenght / 2  , distant_y, -L1 - torso_width / 2]).reshape(3,1)  # right front tip of the foot measure from m\n",
        "\n",
        "T_y   = np.array([0.0, 0.0, 0.0]).reshape(3,1)\n",
        "# 1 - Right Front Leg\n",
        "rf_r_m_o     = np.array([torso_lenght / 2 , 0.0, torso_width / 2]).reshape(3,1)   \n",
        "rf_r_m_o_rot = np.add(R_x @ R_y @ R_z @ rf_r_m_o, T_y)                            \n",
        "rf_r_o_rot   = np.subtract(rf_m_l, rf_r_m_o_rot)                                  \n",
        "# 2 - Right Rear Leg\n",
        "rr_r_m_o     = np.array([-torso_lenght / 2 , 0.0, torso_width / 2]).reshape(3,1)  \n",
        "rr_r_m_o_rot = np.add(R_x @ R_y @ R_z @ rr_r_m_o, T_y)                            \n",
        "rr_r_o_rot   = np.subtract(rr_m_l, rr_r_m_o_rot)                                  \n",
        "# 3 - Left Front Leg \n",
        "lf_r_m_o = np.array([torso_lenght / 2 , 0.0, -torso_width / 2]).reshape(3,1)      \n",
        "lf_r_m_o_rot = np.add(R_x @ R_y @ R_z @ lf_r_m_o, T_y)                            \n",
        "lf_r_o_rot = np.subtract(lf_m_l, lf_r_m_o_rot)                                    \n",
        "# 4 - Left Rear Leg \n",
        "lr_r_m_o = np.array([-torso_lenght / 2 , 0.0, -torso_width / 2]).reshape(3,1)     \n",
        "lr_r_m_o_rot = np.add(R_x @ R_y @ R_z @ lr_r_m_o, T_y)                            \n",
        "lr_r_o_rot = np.subtract(lr_m_l, lr_r_m_o_rot)                                    "
      ],
      "execution_count": 49,
      "outputs": []
    },
    {
      "cell_type": "code",
      "metadata": {
        "id": "h5sOYuED_lhN"
      },
      "source": [
        "#print('RF',str(inverse_kinematics(rf_r_o_rot, L1, L2, L3, side='r').reshape(1,3)).replace('  ',' ').replace('[','').replace(']', '').replace(' ', ' & '))\n",
        "#print('RR',str(inverse_kinematics(rr_r_o_rot, L1, L2, L3, side='r').reshape(1,3)).replace('  ',' ').replace('[','').replace(']', '').replace(' ', ' & '))\n",
        "#print('LF',str(inverse_kinematics(lf_r_o_rot, L1, L2, L3, side='l').reshape(1,3)).replace('  ',' ').replace('[','').replace(']', '').replace(' ', ' & '))\n",
        "#print('LR',str(inverse_kinematics(lr_r_o_rot, L1, L2, L3, side='l').reshape(1,3)).replace('  ',' ').replace('[','').replace(']', '').replace(' ', ' & '))"
      ],
      "execution_count": 23,
      "outputs": []
    },
    {
      "cell_type": "code",
      "metadata": {
        "colab": {
          "base_uri": "https://localhost:8080/",
          "height": 279
        },
        "id": "gqyvTvWiDto_",
        "outputId": "cb27bd8c-e361-4be0-c741-95ea6e698129"
      },
      "source": [
        "# Before Rotation\n",
        "# Legs Draw:\n",
        "# Front\n",
        "graph_leg_side_view(inverse_kinematics(np.subtract(rf_m_l,rf_r_m_o), \n",
        "                                                        L1, L2, L3, \n",
        "                                                        side='r'), \n",
        "                                                        rf_r_m_o,\n",
        "                                                        side = 'r',  \n",
        "                                                        linestyle='dashed')\n",
        "# Rear\n",
        "graph_leg_side_view(inverse_kinematics(np.subtract(rr_m_l,rr_r_m_o), \n",
        "                                                        L1, L2, L3, \n",
        "                                                        side='r'), \n",
        "                                                        rr_r_m_o, \n",
        "                                                        side='r',\n",
        "                                                        linestyle='dashed')\n",
        "# Body Draw:\n",
        "plt.plot([rr_r_m_o[0][0], rf_r_m_o[0][0]],\n",
        "         [rr_r_m_o[1][0], rf_r_m_o[1][0]], \n",
        "         color='black', \n",
        "         linestyle='dashed', \n",
        "         linewidth=1.0)\n",
        "\n",
        "# After Rotation:\n",
        "# Legs Draw:\n",
        "graph_leg_side_view(inverse_kinematics(rf_r_o_rot, L1, L2, L3, side='r'), \n",
        "                                                rf_r_m_o_rot, \n",
        "                                                side='r',\n",
        "                                                linestyle='solid')\n",
        "graph_leg_side_view(inverse_kinematics(rr_r_o_rot, L1, L2, L3, side='r'), \n",
        "                                                rr_r_m_o_rot,\n",
        "                                                side ='r', \n",
        "                                                linestyle='solid')\n",
        "# Body Draw:\n",
        "plt.plot([rr_r_m_o_rot[0][0], rf_r_m_o_rot[0][0]],\n",
        "         [rr_r_m_o_rot[1][0], rf_r_m_o_rot[1][0]],\n",
        "         color='black', \n",
        "         linestyle='solid', \n",
        "         linewidth=1.5)\n",
        "# Flor Draw:\n",
        "plt.plot([-150, 100], [-81, -81], color='black', linewidth=3.5)\n",
        "\n",
        "plt.grid(color='black', linestyle='dashed', linewidth=.25)\n",
        "plt.legend(['Right Side view'], handlelength=0, loc=1, prop={'size': 13})\n",
        "plt.xlabel('X[mm]')\n",
        "plt.ylabel('Y[mm]')\n",
        "plt.axis('equal')\n",
        "#plt.axis('off')\n",
        "plt.show()"
      ],
      "execution_count": 47,
      "outputs": [
        {
          "output_type": "display_data",
          "data": {
            "image/png": "[encoded data removed]",
            "text/plain": [
              "<Figure size 432x288 with 1 Axes>"
            ]
          },
          "metadata": {
            "needs_background": "light"
          }
        }
      ]
    },
    {
      "cell_type": "code",
      "metadata": {
        "colab": {
          "base_uri": "https://localhost:8080/",
          "height": 282
        },
        "id": "FNORARxeEz4Y",
        "outputId": "302ba510-79f0-4ed1-c8fb-bd6bba1eab5e"
      },
      "source": [
        "# Before Rotation\n",
        "# Legs Draw:\n",
        "graph_leg_side_view(inverse_kinematics(np.subtract(lf_m_l,lf_r_m_o), \n",
        "                                                        L1, L2, L3, \n",
        "                                                        side='l'), \n",
        "                                                        lf_r_m_o,\n",
        "                                                        side='l',\n",
        "                                                        linestyle='dashed')\n",
        "\n",
        "graph_leg_side_view(inverse_kinematics(np.subtract(lr_m_l,lr_r_m_o), \n",
        "                                                        L1, L2, L3, \n",
        "                                                        side='l'), \n",
        "                                                        lr_r_m_o,\n",
        "                                                        side='l', \n",
        "                                                        linestyle='dashed')\n",
        "# Body Draw:\n",
        "plt.plot([lr_r_m_o[0][0], lf_r_m_o[0][0]],\n",
        "         [lr_r_m_o[1][0], lf_r_m_o[1][0]], \n",
        "         color='black', \n",
        "         linestyle='dashed', \n",
        "         linewidth=1.0)\n",
        "\n",
        "# After Rotation:\n",
        "# Legs Draw:\n",
        "graph_leg_side_view(inverse_kinematics(lf_r_o_rot, L1, L2, L3, side='l'), \n",
        "                                                lf_r_m_o_rot,\n",
        "                                                side='l' ,\n",
        "                                                linestyle='solid')\n",
        "graph_leg_side_view(inverse_kinematics(lr_r_o_rot, L1, L2, L3, side='l'), \n",
        "                                                lr_r_m_o_rot,\n",
        "                                                side='l', \n",
        "                                                linestyle='solid')\n",
        "# Body Draw:\n",
        "plt.plot([lr_r_m_o_rot[0][0], lf_r_m_o_rot[0][0]],\n",
        "         [lr_r_m_o_rot[1][0], lf_r_m_o_rot[1][0]],\n",
        "         color='black', \n",
        "         linestyle='solid', \n",
        "         linewidth=1.5)\n",
        "# Flor Draw:\n",
        "plt.plot([-150, 100], [-81, -81], color='black', linewidth=3.5)\n",
        "\n",
        "plt.grid(color='black', linestyle='dashed', linewidth=.25)\n",
        "plt.legend(['Left Side view'], handlelength=0, loc=1, prop={'size': 13})\n",
        "plt.xlabel('X[mm]')\n",
        "plt.ylabel('Y[mm]')\n",
        "plt.axis('equal')\n",
        "#plt.axis('off')\n",
        "plt.show()"
      ],
      "execution_count": 46,
      "outputs": [
        {
          "output_type": "display_data",
          "data": {
            "image/png": "[encoded data removed]",
            "text/plain": [
              "<Figure size 432x288 with 1 Axes>"
            ]
          },
          "metadata": {
            "needs_background": "light"
          }
        }
      ]
    },
    {
      "cell_type": "code",
      "metadata": {
        "colab": {
          "base_uri": "https://localhost:8080/",
          "height": 279
        },
        "id": "8PmjSLhxLO8p",
        "outputId": "9ac49f39-e9b1-4dc6-bf96-9b2a7193b634"
      },
      "source": [
        "# Before rotation:\n",
        "# Legs Draw:\n",
        "graph_leg_front_or_back_view(inverse_kinematics(np.subtract(rf_m_l, rf_r_m_o), \n",
        "                                                      L1, L2, L3, side='r'), \n",
        "                                        rf_r_m_o,\n",
        "                                        side ='r',\n",
        "                                        front=True,\n",
        "                                        linestyle='dashed')\n",
        "\n",
        "graph_leg_front_or_back_view(inverse_kinematics(np.subtract(lf_m_l, lf_r_m_o), \n",
        "                                                       L1, L2, L3, side='l'), \n",
        "                                        lf_r_m_o,\n",
        "                                        side='l',\n",
        "                                        front=True,\n",
        "                                        linestyle='dashed')\n",
        "\n",
        "# Body Draw:\n",
        "plt.plot([lf_r_m_o[2][0], rf_r_m_o[2][0]], \n",
        "         [lf_r_m_o[1][0], rf_r_m_o[1][0]], \n",
        "         color='black', linewidth=1.0, \n",
        "         linestyle='dashed')\n",
        "\n",
        "# After rotation:\n",
        "# Legs Draw:\n",
        "graph_leg_front_or_back_view(inverse_kinematics(rf_r_o_rot, L1, L2, L3, \n",
        "                                                side='r'), \n",
        "                                rf_r_m_o_rot,\n",
        "                                side='r',\n",
        "                                front=True,\n",
        "                                linestyle='solid')\n",
        "\n",
        "graph_leg_front_or_back_view(inverse_kinematics(lf_r_o_rot, L1, L2, L3, \n",
        "                                                side='l'), \n",
        "                                lf_r_m_o_rot,\n",
        "                                side='l',\n",
        "                                front=True,\n",
        "                                linestyle='solid')\n",
        "\n",
        "# Body Draw:\n",
        "plt.plot([lf_r_m_o_rot[2][0], rf_r_m_o_rot[2][0]],\n",
        "         [lf_r_m_o_rot[1][0], rf_r_m_o_rot[1][0]]\n",
        "         , color='k', linewidth=1.5)\n",
        "\n",
        "plt.plot([-130, 130], [-82, -82], color='black', linewidth=3.5)\n",
        "\n",
        "plt.grid(color='k', linestyle='dashed', linewidth=.25)\n",
        "plt.legend(['Front View'],handlelength=0,loc=1, prop={'size': 13})\n",
        "plt.xlabel('Z[mm]')\n",
        "plt.ylabel('y[mm]')\n",
        "plt.axis('equal') \n",
        "#plt.axis('off')\n",
        "plt.show()"
      ],
      "execution_count": 42,
      "outputs": [
        {
          "output_type": "display_data",
          "data": {
            "image/png": "[encoded data removed]",
            "text/plain": [
              "<Figure size 432x288 with 1 Axes>"
            ]
          },
          "metadata": {
            "needs_background": "light"
          }
        }
      ]
    },
    {
      "cell_type": "code",
      "metadata": {
        "colab": {
          "base_uri": "https://localhost:8080/",
          "height": 279
        },
        "id": "cU8pDq16rbPQ",
        "outputId": "3f262fcc-187c-44e6-8108-4b65ba1008d9"
      },
      "source": [
        "# Before rotation:\n",
        "# Legs Draw:\n",
        "graph_leg_front_or_back_view(inverse_kinematics(np.subtract(rr_m_l,rr_r_m_o), \n",
        "                                                       L1, L2, L3, side='r'), \n",
        "                                    rr_r_m_o, \n",
        "                                    side='r',\n",
        "                                    front=False,                                            \n",
        "                                    linestyle='dashed')\n",
        "\n",
        "graph_leg_front_or_back_view(inverse_kinematics(np.subtract(lr_m_l,lr_r_m_o), \n",
        "                                                       L1, L2, L3, side='l'),  \n",
        "                                    lr_r_m_o, \n",
        "                                    side='l',\n",
        "                                    front=False,\n",
        "                                    linestyle='dashed')\n",
        "# Body Draw:\n",
        "plt.plot([rr_r_m_o[2][0], lr_r_m_o[2][0]], \n",
        "         [rr_r_m_o[1][0], lr_r_m_o[1][0]], \n",
        "          color='black', linewidth=1.0, \n",
        "          linestyle='dashed')\n",
        "\n",
        "# After rotation:\n",
        "# Legs Draw:\n",
        "\n",
        "graph_leg_front_or_back_view(inverse_kinematics(rr_r_o_rot, L1, L2, L3, \n",
        "                                                side='r'),             \n",
        "                    rr_r_m_o_rot,\n",
        "                    side='r',\n",
        "                    front=False,\n",
        "                    linestyle='solid')\n",
        "\n",
        "graph_leg_front_or_back_view(inverse_kinematics(lr_r_o_rot, L1, L2, L3, \n",
        "                                                side='l'),  \n",
        "                        lr_r_m_o_rot,\n",
        "                        side='l',\n",
        "                        front=False,\n",
        "                        linestyle='solid')\n",
        "\n",
        "# Body Draw:\n",
        "plt.plot([rr_r_m_o_rot[2][0], lr_r_m_o_rot[2][0]],\n",
        "         [rr_r_m_o_rot[1][0], lr_r_m_o_rot[1][0]],\n",
        "         color='k', linewidth=1.5)\n",
        "\n",
        "plt.plot([-130, 130], [-82, -82], color='black', linewidth=3.5)\n",
        "\n",
        "plt.grid(color='k', linestyle='dashed', linewidth=.25)\n",
        "plt.legend(['Rear View'],handlelength=0,loc=1, prop={'size': 13})\n",
        "plt.xlabel('Z[mm]')\n",
        "plt.ylabel('y[mm]')\n",
        "plt.axis('equal')\n",
        "#plt.axis('off')\n",
        "plt.show()"
      ],
      "execution_count": 44,
      "outputs": [
        {
          "output_type": "display_data",
          "data": {
            "image/png": "[encoded data removed]",
            "text/plain": [
              "<Figure size 432x288 with 1 Axes>"
            ]
          },
          "metadata": {
            "needs_background": "light"
          }
        }
      ]
    },
    {
      "cell_type": "code",
      "metadata": {
        "colab": {
          "base_uri": "https://localhost:8080/",
          "height": 297
        },
        "id": "cL7DgjnCCzsi",
        "outputId": "a04fc2f5-d510-4b6a-f190-c52cdd9aaa09"
      },
      "source": [
        "import numpy as np\n",
        "from mpl_toolkits.mplot3d import axes3d\n",
        "import matplotlib.pyplot as plt\n",
        "\n",
        "fig = plt.figure(num=1, clear=True)\n",
        "ax = fig.add_subplot(1, 1, 1, projection='3d')\n",
        "\n",
        "\n",
        "\n",
        "\n",
        "RR_x, RF_x = rr_r_m_o_rot[0][0], rf_r_m_o_rot[0][0] \n",
        "RR_y, RF_y = rr_r_m_o_rot[1][0], rf_r_m_o_rot[1][0]\n",
        "RR_z, RF_z = rr_r_m_o_rot[2][0], rf_r_m_o_rot[2][0]\n",
        "\n",
        "LR_x, LF_x = lr_r_m_o_rot[0][0], lf_r_m_o_rot[0][0]\n",
        "LR_y, LF_y = lr_r_m_o_rot[1][0], lf_r_m_o_rot[1][0]\n",
        "LR_z, LF_z = lr_r_m_o_rot[2][0], lf_r_m_o_rot[2][0]\n",
        "\n",
        "\n",
        "x = np.array([[RR_x, RF_x], [LR_x, LF_x]])\n",
        "y = np.array([[RR_y, RF_y], [LR_y, LF_y]])\n",
        "z = np.array([[RR_z, RF_z], [LR_z, LF_z]])\n",
        "\n",
        "ax.plot_surface(x, z, y, color='gray',alpha=.3)\n",
        "\n",
        "# RIGHT FRONT\n",
        "gamma = inverse_kinematics(rf_r_o_rot, L1, L2, L3, side='r')\n",
        "                                                \n",
        "gamma_1 = float(gamma[0][0])  \n",
        "gamma_2 = float(gamma[1][0])  \n",
        "gamma_3 = float(gamma[2][0])  \n",
        "\n",
        "x0, y0, z0 = float(RF_x), float(RF_y), float(RF_z)\n",
        "rot_l1 = np.add(rotation('x', gamma_1, np.array([0, 0, L1]).reshape(3,1)), \n",
        "                                        rf_r_m_o_rot)            \n",
        "# plot coxa\n",
        "ax.plot([x0, rot_l1[0][0]], [z0, rot_l1[2][0]],[y0, rot_l1[1][0]], \n",
        "                                color='r', \n",
        "                                linewidth=1.)\n",
        "\n",
        "rot_l2 = rotation('z', gamma_2, np.array([0,-L2, 0]).reshape(3,1))\n",
        "rot_l2 = np.add(rotation('x', gamma_1, rot_l2), rot_l1)\n",
        "# plot femur\n",
        "ax.plot([rot_l1[0][0], rot_l2[0][0]], \n",
        "        [rot_l1[2][0], rot_l2[2][0]],\n",
        "        [rot_l1[1][0], rot_l2[1][0]], \n",
        "        color='b', \n",
        "        linewidth=1.)\n",
        "\n",
        "rot_l3 = rotation('z', gamma_2 + gamma_3, np.array([0,-L3, 0]).reshape(3,1))\n",
        "rot_l3 = np.add(rotation('x', gamma_1, rot_l3), rot_l2)\n",
        "\n",
        "# plot tibia\n",
        "ax.plot([rot_l2[0][0], rot_l3[0][0]], \n",
        "        [rot_l2[2][0], rot_l3[2][0]], \n",
        "        [rot_l2[1][0], rot_l3[1][0]],\n",
        "        color='m', \n",
        "        linewidth=1.)\n",
        "\n",
        "\n",
        "#LEFT FRONT\n",
        "gamma = inverse_kinematics(lf_r_o_rot, L1, L2, L3, side='l')\n",
        "                                                \n",
        "gamma_1 = float(gamma[0][0])  \n",
        "gamma_2 = float(gamma[1][0])  \n",
        "gamma_3 = float(gamma[2][0])  \n",
        "\n",
        "x0, y0, z0 = float(LF_x), float(LF_y), float(LF_z)\n",
        "rot_l1 = np.add(rotation('x', gamma_1, np.array([0, 0, -L1]).reshape(3,1)), lf_r_m_o_rot)            \n",
        "# plot coxa\n",
        "ax.plot([x0, rot_l1[0][0]], [z0, rot_l1[2][0]],[y0, rot_l1[1][0]], \n",
        "                                color='r', \n",
        "                                linewidth=1.)\n",
        "rot_l2 = rotation('z', gamma_2, np.array([0,-L2, 0]).reshape(3,1))\n",
        "rot_l2 = np.add(rotation('x', gamma_1, rot_l2), rot_l1)\n",
        "# plor femur\n",
        "ax.plot([rot_l1[0][0], rot_l2[0][0]], \n",
        "        [rot_l1[2][0], rot_l2[2][0]],\n",
        "        [rot_l1[1][0], rot_l2[1][0]], \n",
        "        color='b', \n",
        "        linewidth=1.)\n",
        "\n",
        "rot_l3 = rotation('z', gamma_2 + gamma_3, np.array([0,-L3, 0]).reshape(3,1))\n",
        "rot_l3 = np.add(rotation('x', gamma_1, rot_l3), rot_l2)\n",
        "# plot tibia\n",
        "ax.plot([rot_l2[0][0], rot_l3[0][0]], \n",
        "        [rot_l2[2][0], rot_l3[2][0]], \n",
        "        [rot_l2[1][0], rot_l3[1][0]],\n",
        "        color='m', \n",
        "        linewidth=1.)\n",
        "\n",
        "# LEFT REAR\n",
        "gamma = inverse_kinematics(lr_r_o_rot, L1, L2, L3, side='l')\n",
        "                                                \n",
        "gamma_1 = float(gamma[0][0])  \n",
        "gamma_2 = float(gamma[1][0])  \n",
        "gamma_3 = float(gamma[2][0])  \n",
        "\n",
        "x0, y0, z0 = float(LR_x), float(LR_y), float(LR_z)\n",
        "rot_l1 = np.add(rotation('x', gamma_1, np.array([0, 0, -L1]).reshape(3,1)), lr_r_m_o_rot)            \n",
        "# plot coxa\n",
        "ax.plot([x0, rot_l1[0][0]], [z0, rot_l1[2][0]],[y0, rot_l1[1][0]], \n",
        "                                color='r', \n",
        "                                linewidth=1.)\n",
        "rot_l2 = rotation('z', gamma_2, np.array([0,-L2, 0]).reshape(3,1))\n",
        "rot_l2 = np.add(rotation('x', gamma_1, rot_l2), rot_l1)\n",
        "# plor femur\n",
        "ax.plot([rot_l1[0][0], rot_l2[0][0]], \n",
        "        [rot_l1[2][0], rot_l2[2][0]],\n",
        "        [rot_l1[1][0], rot_l2[1][0]], \n",
        "        color='b', \n",
        "        linewidth=1.)\n",
        "\n",
        "rot_l3 = rotation('z', gamma_2 + gamma_3, np.array([0,-L3, 0]).reshape(3,1))\n",
        "rot_l3 = np.add(rotation('x', gamma_1, rot_l3), rot_l2)\n",
        "# plot tibia\n",
        "\n",
        "ax.plot([rot_l2[0][0], rot_l3[0][0]], \n",
        "        [rot_l2[2][0], rot_l3[2][0]], \n",
        "        [rot_l2[1][0], rot_l3[1][0]],\n",
        "         color='m', \n",
        "         linewidth=1.)\n",
        "\n",
        "# RIGHT REAR\n",
        "gamma = inverse_kinematics(rr_r_o_rot, L1, L2, L3, side='r')\n",
        "                                          \n",
        "gamma_1 = float(gamma[0][0])  \n",
        "gamma_2 = float(gamma[1][0])  \n",
        "gamma_3 = float(gamma[2][0])  \n",
        "\n",
        "x0, y0, z0 = float(RR_x), float(RR_y), float(RR_z)\n",
        "\n",
        "rot_l1 = np.add(rotation('x', gamma_1, np.array([0, 0, L1]).reshape(3,1)), \n",
        "                rr_r_m_o_rot).reshape(3,1)            \n",
        "# plot coxa\n",
        "ax.plot([x0, rot_l1[0][0]], \n",
        "        [z0, rot_l1[2][0]], \n",
        "        [y0, rot_l1[1][0]], \n",
        "        color='r', \n",
        "        linewidth=1.)\n",
        "\n",
        "rot_l2 = rotation('z', gamma_2, np.array([0,-L2, 0]).reshape(3,1))\n",
        "rot_l2 = np.add(rotation('x', gamma_1, rot_l2), rot_l1)\n",
        "# plor femur\n",
        "ax.plot([rot_l1[0][0], rot_l2[0][0]], \n",
        "        [rot_l1[2][0], rot_l2[2][0]],\n",
        "        [rot_l1[1][0], rot_l2[1][0]], \n",
        "        color='b', \n",
        "        linewidth=1.)\n",
        "\n",
        "rot_l3 = rotation('z', gamma_2+gamma_3, np.array([0,-L3, 0]).reshape(3,1))\n",
        "rot_l3 = np.add(rotation('x', gamma_1, rot_l3), rot_l2)\n",
        "# plot tibia\n",
        "ax.plot([rot_l2[0][0], rot_l3[0][0]], \n",
        "        [rot_l2[2][0], rot_l3[2][0]], \n",
        "        [rot_l2[1][0], rot_l3[1][0]],\n",
        "        color='m', \n",
        "        linewidth=1.)\n",
        "\n",
        "ax.invert_yaxis()\n",
        "#ax.invert_zaxis()\n",
        "ax.legend(['3D quadruped view'], handlelength=0, loc=0, prop={'size': 13})\n",
        "ax.set(xlabel='X[mm]', ylabel='Z[mm]', zlabel='Y[mm]')\n",
        "fig.tight_layout()"
      ],
      "execution_count": 50,
      "outputs": [
        {
          "output_type": "display_data",
          "data": {
            "image/png": "[encoded data removed]",
            "text/plain": [
              "<Figure size 432x288 with 1 Axes>"
            ]
          },
          "metadata": {
            "needs_background": "light"
          }
        }
      ]
    },
    {
      "cell_type": "code",
      "metadata": {
        "colab": {
          "base_uri": "https://localhost:8080/",
          "height": 316
        },
        "id": "X7teLsxQJ1ky",
        "outputId": "c2719506-1121-40c0-a352-470901acbc57"
      },
      "source": [
        "import numpy as np\n",
        "import matplotlib.pyplot as plt\n",
        "# LR_servo_i data:\n",
        "DEG_TO_RAD  = 0.0174533\n",
        "x_grad = [0,-90,45,88]\n",
        "\n",
        "x = [e*DEG_TO_RAD for e in x_grad]\n",
        "\n",
        "y = [1400,2370,944,500]\n",
        "coef_servo_i = np.polyfit(x,y,1)\n",
        "print(coef_servo_i)\n",
        "poly1d_fn = np.poly1d(coef_servo_i) \n",
        "# poly1d_fn is now a function which takes in x and returns an estimate for y\n",
        "plt.plot(x,y, 'go', x, poly1d_fn(x), 'k') #'--k'=black dashed line, 'yo' = yellow circle marker"
      ],
      "execution_count": null,
      "outputs": [
        {
          "output_type": "stream",
          "name": "stdout",
          "text": [
            "[-601.93335097 1416.43652606]\n"
          ]
        },
        {
          "output_type": "execute_result",
          "data": {
            "text/plain": [
              "[<matplotlib.lines.Line2D at 0x7f6bbf4c6550>,\n",
              " <matplotlib.lines.Line2D at 0x7f6bbf4c6390>]"
            ]
          },
          "metadata": {},
          "execution_count": 14
        },
        {
          "output_type": "display_data",
          "data": {
            "image/png": "[encoded data removed]",
            "text/plain": [
              "<Figure size 432x288 with 1 Axes>"
            ]
          },
          "metadata": {
            "needs_background": "light"
          }
        }
      ]
    },
    {
      "cell_type": "code",
      "metadata": {
        "colab": {
          "base_uri": "https://localhost:8080/",
          "height": 316
        },
        "id": "z96W7nM3Fobx",
        "outputId": "b52eee08-fd85-4170-abd4-65ed8907aa3a"
      },
      "source": [
        "# LR_servo_ii data:\n",
        "DEG_TO_RAD  = 0.0174533\n",
        "\n",
        "x_grad = [-90,-45,0]\n",
        "\n",
        "x = [e*DEG_TO_RAD for e in x_grad]\n",
        "\n",
        "y = [2000,1510, 1020]\n",
        "\n",
        "coef_servo_ii = np.polyfit(x,y,1)\n",
        "print(coef_servo_ii)\n",
        "poly1d_fn = np.poly1d(coef_servo_ii) \n",
        "# poly1d_fn is now a function which takes in x and returns an estimate for y\n",
        "plt.plot(x,y, 'yo', x, poly1d_fn(x), 'k') #'--k'=black dashed line, 'yo' = yellow circle marker\n"
      ],
      "execution_count": null,
      "outputs": [
        {
          "output_type": "stream",
          "name": "stdout",
          "text": [
            "[-623.88710954 1020.        ]\n"
          ]
        },
        {
          "output_type": "execute_result",
          "data": {
            "text/plain": [
              "[<matplotlib.lines.Line2D at 0x7f6bbf43a890>,\n",
              " <matplotlib.lines.Line2D at 0x7f6bbf43a6d0>]"
            ]
          },
          "metadata": {},
          "execution_count": 15
        },
        {
          "output_type": "display_data",
          "data": {
            "image/png": "[encoded data removed]",
            "text/plain": [
              "<Figure size 432x288 with 1 Axes>"
            ]
          },
          "metadata": {
            "needs_background": "light"
          }
        }
      ]
    },
    {
      "cell_type": "code",
      "metadata": {
        "colab": {
          "base_uri": "https://localhost:8080/",
          "height": 316
        },
        "id": "gFmkJVqxL_07",
        "outputId": "681eb28d-15a4-4d58-976d-c6306faa371f"
      },
      "source": [
        "# LR_servo_iii data:\n",
        "DEG_TO_RAD  = 0.0174533\n",
        "\n",
        "y = [1660,1800,1900,2000,2100]\n",
        "\n",
        "x_grad = [89.4681, 78.1889, 69.5778, 60.81, 52.09]\n",
        "\n",
        "bias = 0.2\n",
        "x = [(e+bias)*DEG_TO_RAD for e in x_grad]\n",
        "\n",
        "coef_servo_iii = np.polyfit(x,y,1)\n",
        "print(coef_servo_iii)\n",
        "poly1d_fn = np.poly1d(coef_servo_iii) \n",
        "# poly1d_fn is now a function which takes in x and returns an estimate for y\n",
        "plt.plot(x,y, 'yo', x, poly1d_fn(x), 'k') #'--k'=black dashed line, 'yo' = yellow circle marker\n"
      ],
      "execution_count": null,
      "outputs": [
        {
          "output_type": "stream",
          "name": "stdout",
          "text": [
            "[-672.31371424 2716.04967615]\n"
          ]
        },
        {
          "output_type": "execute_result",
          "data": {
            "text/plain": [
              "[<matplotlib.lines.Line2D at 0x7f6bbf326ed0>,\n",
              " <matplotlib.lines.Line2D at 0x7f6bbf3aeed0>]"
            ]
          },
          "metadata": {},
          "execution_count": 17
        },
        {
          "output_type": "display_data",
          "data": {
            "image/png": "[encoded data removed]",
            "text/plain": [
              "<Figure size 432x288 with 1 Axes>"
            ]
          },
          "metadata": {
            "needs_background": "light"
          }
        }
      ]
    },
    {
      "cell_type": "code",
      "metadata": {
        "id": "I3o8l4qhQ4eg"
      },
      "source": [
        "x = np.array([0,-100,-L1]).reshape(3,1)\n",
        "res = inverse_kinematics(x, L1, L2, L3, side='l')"
      ],
      "execution_count": null,
      "outputs": []
    },
    {
      "cell_type": "code",
      "metadata": {
        "colab": {
          "base_uri": "https://localhost:8080/"
        },
        "id": "4TLQfr9lS91z",
        "outputId": "27756f8d-d1b0-46b9-88d6-7a8d4df06b5f"
      },
      "source": [
        "int(round(coef_servo_i[0] * (res[0][0]) + coef_servo_i[1],0))"
      ],
      "execution_count": null,
      "outputs": [
        {
          "output_type": "execute_result",
          "data": {
            "text/plain": [
              "1416"
            ]
          },
          "metadata": {},
          "execution_count": 19
        }
      ]
    },
    {
      "cell_type": "code",
      "metadata": {
        "colab": {
          "base_uri": "https://localhost:8080/"
        },
        "id": "PrMEez5LTFBW",
        "outputId": "eaf7d15e-933c-4673-d9c6-780466f39051"
      },
      "source": [
        "int(round(coef_servo_ii[0] * (res[1][0]) + coef_servo_ii[1],0))"
      ],
      "execution_count": null,
      "outputs": [
        {
          "output_type": "execute_result",
          "data": {
            "text/plain": [
              "1558"
            ]
          },
          "metadata": {},
          "execution_count": 20
        }
      ]
    },
    {
      "cell_type": "code",
      "metadata": {
        "colab": {
          "base_uri": "https://localhost:8080/"
        },
        "id": "ORk2naWeTEwD",
        "outputId": "d013f6d4-10b2-48a9-bc56-b8af21f25201"
      },
      "source": [
        "int(round(coef_servo_iii[0] * (res[2][0]) + coef_servo_iii[1],0))"
      ],
      "execution_count": null,
      "outputs": [
        {
          "output_type": "execute_result",
          "data": {
            "text/plain": [
              "1547"
            ]
          },
          "metadata": {},
          "execution_count": 21
        }
      ]
    },
    {
      "cell_type": "code",
      "metadata": {
        "colab": {
          "base_uri": "https://localhost:8080/",
          "height": 316
        },
        "id": "MHDVUcMAsvzp",
        "outputId": "d674342f-2207-4eb9-b37c-229a98fdeeb8"
      },
      "source": [
        "import numpy as np\n",
        "import matplotlib.pyplot as plt\n",
        "\n",
        "# LF_servo_i data:\n",
        "DEG_TO_RAD  = 0.0174533\n",
        "x_grad = [0,-90,-45,45,90]\n",
        "\n",
        "x = [e*DEG_TO_RAD for e in x_grad]\n",
        "\n",
        "y = [1450,520,985,1912,2375]\n",
        "coef_servo_i = np.polyfit(x,y,1)\n",
        "print(coef_servo_i)\n",
        "poly1d_fn = np.poly1d(coef_servo_i) \n",
        "# poly1d_fn is now a function which takes in x and returns an estimate for y\n",
        "plt.plot(x,y, 'go', x, poly1d_fn(x), 'k') #'--k'=black dashed line, 'yo' = yellow circle marker"
      ],
      "execution_count": null,
      "outputs": [
        {
          "output_type": "stream",
          "name": "stdout",
          "text": [
            "[ 590.40092386 1448.4       ]\n"
          ]
        },
        {
          "output_type": "execute_result",
          "data": {
            "text/plain": [
              "[<matplotlib.lines.Line2D at 0x7f6bbf6c9950>,\n",
              " <matplotlib.lines.Line2D at 0x7f6bbf6c9790>]"
            ]
          },
          "metadata": {},
          "execution_count": 8
        },
        {
          "output_type": "display_data",
          "data": {
            "image/png": "[encoded data removed]",
            "text/plain": [
              "<Figure size 432x288 with 1 Axes>"
            ]
          },
          "metadata": {
            "needs_background": "light"
          }
        }
      ]
    },
    {
      "cell_type": "code",
      "metadata": {
        "colab": {
          "base_uri": "https://localhost:8080/",
          "height": 316
        },
        "id": "P0NHVE043BJg",
        "outputId": "d5664ed2-ccb2-4b86-b8e5-9d4753d7ab94"
      },
      "source": [
        "import numpy as np\n",
        "import matplotlib.pyplot as plt\n",
        "\n",
        "# LF_servo_ii data:\n",
        "DEG_TO_RAD  = 0.0174533\n",
        "x_grad = [-90,-75,-45,-15,0]\n",
        "\n",
        "x = [e*DEG_TO_RAD for e in x_grad]\n",
        "\n",
        "y = [2025,1864,1542,1221,1060]\n",
        "\n",
        "coef_servo_ii = np.polyfit(x,y,1)\n",
        "poly1d_fn = np.poly1d(coef_servo_ii) \n",
        "print(coef_servo_ii)\n",
        "# poly1d_fn is now a function which takes in x and returns an estimate for y\n",
        "plt.plot(x,y, 'go', x, poly1d_fn(x), 'k') #'--k'=black dashed line, 'yo' = yellow circle marker"
      ],
      "execution_count": null,
      "outputs": [
        {
          "output_type": "stream",
          "name": "stdout",
          "text": [
            "[-614.23987558 1059.97692308]\n"
          ]
        },
        {
          "output_type": "execute_result",
          "data": {
            "text/plain": [
              "[<matplotlib.lines.Line2D at 0x7f6bbf64e310>,\n",
              " <matplotlib.lines.Line2D at 0x7f6bbf64e150>]"
            ]
          },
          "metadata": {},
          "execution_count": 9
        },
        {
          "output_type": "display_data",
          "data": {
            "image/png": "[encoded data removed]",
            "text/plain": [
              "<Figure size 432x288 with 1 Axes>"
            ]
          },
          "metadata": {
            "needs_background": "light"
          }
        }
      ]
    },
    {
      "cell_type": "code",
      "metadata": {
        "colab": {
          "base_uri": "https://localhost:8080/",
          "height": 316
        },
        "id": "fQgpXvosSOFc",
        "outputId": "f35c9848-c22c-48d7-e98b-45889bb046cc"
      },
      "source": [
        "import numpy as np\n",
        "import matplotlib.pyplot as plt\n",
        "\n",
        "# LF_servo_iii data:\n",
        "DEG_TO_RAD  = 0.0174533\n",
        "x_grad = [43.38,78.3, 85.37, 106.82, 112.12]\n",
        "\n",
        "bias = 90 - 78.3\n",
        "x = [(e+bias)*DEG_TO_RAD for e in x_grad]\n",
        "\n",
        "y = [2100,1620,1500,1200,1100]\n",
        "\n",
        "coef_servo_iii = np.polyfit(x,y,1)\n",
        "print(coef_servo_iii)\n",
        "poly1d_fn = np.poly1d(coef_servo_iii) \n",
        "# poly1d_fn is now a function which takes in x and returns an estimate for y\n",
        "plt.plot(x,y, 'go', x, poly1d_fn(x), 'k') #'--k'=black dashed line, 'yo' = yellow circle marker"
      ],
      "execution_count": null,
      "outputs": [
        {
          "output_type": "stream",
          "name": "stdout",
          "text": [
            "[-827.6896372  2903.78032447]\n"
          ]
        },
        {
          "output_type": "execute_result",
          "data": {
            "text/plain": [
              "[<matplotlib.lines.Line2D at 0x7f6bbf5cfb90>,\n",
              " <matplotlib.lines.Line2D at 0x7f6bbf5cf9d0>]"
            ]
          },
          "metadata": {},
          "execution_count": 10
        },
        {
          "output_type": "display_data",
          "data": {
            "image/png": "[encoded data removed]",
            "text/plain": [
              "<Figure size 432x288 with 1 Axes>"
            ]
          },
          "metadata": {
            "needs_background": "light"
          }
        }
      ]
    },
    {
      "cell_type": "code",
      "metadata": {
        "id": "_QUjPLFIYMK2"
      },
      "source": [
        "x = np.array([0,-100,-L1]).reshape(3,1)\n",
        "res = inverse_kinematics(x, L1, L2, L3, side='l')"
      ],
      "execution_count": null,
      "outputs": []
    },
    {
      "cell_type": "code",
      "metadata": {
        "colab": {
          "base_uri": "https://localhost:8080/"
        },
        "id": "RjnfRoR7YsCd",
        "outputId": "b347c3a2-b64d-42f6-f27b-8c634eee7e29"
      },
      "source": [
        "int(round(coef_servo_i[0] * (res[0][0]) + coef_servo_i[1],0))"
      ],
      "execution_count": null,
      "outputs": [
        {
          "output_type": "execute_result",
          "data": {
            "text/plain": [
              "1448"
            ]
          },
          "metadata": {},
          "execution_count": 11
        }
      ]
    },
    {
      "cell_type": "code",
      "metadata": {
        "colab": {
          "base_uri": "https://localhost:8080/"
        },
        "id": "se4sndrOYzUn",
        "outputId": "38aee8ea-c5c5-4438-f9b9-0dfd87e2ffa0"
      },
      "source": [
        "int(round(coef_servo_ii[0] * (res[1][0]) + coef_servo_ii[1],0))"
      ],
      "execution_count": null,
      "outputs": [
        {
          "output_type": "execute_result",
          "data": {
            "text/plain": [
              "1589"
            ]
          },
          "metadata": {},
          "execution_count": 12
        }
      ]
    },
    {
      "cell_type": "code",
      "metadata": {
        "colab": {
          "base_uri": "https://localhost:8080/"
        },
        "id": "9Dqw1Ac9Y52M",
        "outputId": "a66638cd-cbdd-4f6c-c354-261127ee9109"
      },
      "source": [
        "int(round(coef_servo_iii[0] * (res[2][0]) + coef_servo_iii[1],0))"
      ],
      "execution_count": null,
      "outputs": [
        {
          "output_type": "execute_result",
          "data": {
            "text/plain": [
              "1464"
            ]
          },
          "metadata": {},
          "execution_count": 191
        }
      ]
    },
    {
      "cell_type": "code",
      "metadata": {
        "colab": {
          "base_uri": "https://localhost:8080/",
          "height": 317
        },
        "id": "4dzOG864ZyYT",
        "outputId": "45b67ae8-da1f-48f1-c831-fc2c76310dcd"
      },
      "source": [
        "import numpy as np\n",
        "import matplotlib.pyplot as plt\n",
        "\n",
        "# RR_servo_i data:\n",
        "DEG_TO_RAD  = 0.0174533\n",
        "x_grad = [0,-90,90]\n",
        "\n",
        "x = [e*DEG_TO_RAD for e in x_grad]\n",
        "\n",
        "y = [1490,2440,550]\n",
        "coef_servo_i = np.polyfit(x,y,1)\n",
        "poly1d_fn = np.poly1d(coef_servo_i) \n",
        "print(coef_servo_i) \n",
        "# poly1d_fn is now a function which takes in x and returns an estimate for y\n",
        "plt.plot(x,y, 'go', x, poly1d_fn(x), 'k') #'--k'=black dashed line, 'yo' = yellow circle marker"
      ],
      "execution_count": null,
      "outputs": [
        {
          "output_type": "stream",
          "name": "stdout",
          "text": [
            "[-601.60542705 1493.33333333]\n"
          ]
        },
        {
          "output_type": "execute_result",
          "data": {
            "text/plain": [
              "[<matplotlib.lines.Line2D at 0x7f6bbf68f510>,\n",
              " <matplotlib.lines.Line2D at 0x7f6bbf50ffd0>]"
            ]
          },
          "metadata": {},
          "execution_count": 23
        },
        {
          "output_type": "display_data",
          "data": {
            "image/png": "[encoded data removed]",
            "text/plain": [
              "<Figure size 432x288 with 1 Axes>"
            ]
          },
          "metadata": {
            "needs_background": "light"
          }
        }
      ]
    },
    {
      "cell_type": "code",
      "metadata": {
        "colab": {
          "base_uri": "https://localhost:8080/",
          "height": 316
        },
        "id": "szxsoLODbJ-M",
        "outputId": "fdddb912-252a-48c0-a139-a6e41b48f9c9"
      },
      "source": [
        "import numpy as np\n",
        "import matplotlib.pyplot as plt\n",
        "\n",
        "# RR_servo_ii data:\n",
        "DEG_TO_RAD  = 0.0174533\n",
        "x_grad = [-90,0]\n",
        "\n",
        "x = [e*DEG_TO_RAD for e in x_grad]\n",
        "\n",
        "y = [940,1875]\n",
        "coef_servo_ii = np.polyfit(x,y,1)\n",
        "poly1d_fn = np.poly1d(coef_servo_ii)\n",
        "print(coef_servo_ii) \n",
        "# poly1d_fn is now a function which takes in x and returns an estimate for y\n",
        "plt.plot(x,y, 'go', x, poly1d_fn(x), 'k') #'--k'=black dashed line, 'yo' = yellow circle marker"
      ],
      "execution_count": null,
      "outputs": [
        {
          "output_type": "stream",
          "name": "stdout",
          "text": [
            "[ 595.23923206 1875.        ]\n"
          ]
        },
        {
          "output_type": "execute_result",
          "data": {
            "text/plain": [
              "[<matplotlib.lines.Line2D at 0x7f6bbf2a0090>,\n",
              " <matplotlib.lines.Line2D at 0x7f6bbf68f290>]"
            ]
          },
          "metadata": {},
          "execution_count": 24
        },
        {
          "output_type": "display_data",
          "data": {
            "image/png": "[encoded data removed]",
            "text/plain": [
              "<Figure size 432x288 with 1 Axes>"
            ]
          },
          "metadata": {
            "needs_background": "light"
          }
        }
      ]
    },
    {
      "cell_type": "code",
      "metadata": {
        "colab": {
          "base_uri": "https://localhost:8080/",
          "height": 316
        },
        "id": "pLrdYBTScouI",
        "outputId": "e7fb376e-aab6-483b-effa-c9a5ca173c6b"
      },
      "source": [
        "import numpy as np\n",
        "import matplotlib.pyplot as plt\n",
        "\n",
        "# RR_servo_iii data:\n",
        "DEG_TO_RAD  = 0.0174533\n",
        "x_grad = [57.30,64.99,72.41,79.02,86.63, 93.26,100.36,107.54,115.01,122.22]\n",
        "\n",
        "bias = 90 - 86.63\n",
        "x = [(e+bias)*DEG_TO_RAD for e in x_grad]\n",
        "\n",
        "y = [1100,1200,1300,1400,1500,1600,1700,1800,1900,2000]\n",
        "coef_servo_iii = np.polyfit(x,y,1)\n",
        "poly1d_fn = np.poly1d(coef_servo_iii) \n",
        "print(coef_servo_iii)\n",
        "# poly1d_fn is now a function which takes in x and returns an estimate for y\n",
        "plt.plot(x,y, 'go', x, poly1d_fn(x), 'k') #'--k'=black dashed line, 'yo' = yellow circle marker"
      ],
      "execution_count": null,
      "outputs": [
        {
          "output_type": "stream",
          "name": "stdout",
          "text": [
            "[800.55783418 247.15976784]\n"
          ]
        },
        {
          "output_type": "execute_result",
          "data": {
            "text/plain": [
              "[<matplotlib.lines.Line2D at 0x7f6bbf1c6650>,\n",
              " <matplotlib.lines.Line2D at 0x7f6bbf1c6490>]"
            ]
          },
          "metadata": {},
          "execution_count": 25
        },
        {
          "output_type": "display_data",
          "data": {
            "image/png": "[encoded data removed]",
            "text/plain": [
              "<Figure size 432x288 with 1 Axes>"
            ]
          },
          "metadata": {
            "needs_background": "light"
          }
        }
      ]
    },
    {
      "cell_type": "code",
      "metadata": {
        "id": "sAnVcYFzfq8F"
      },
      "source": [
        "x = np.array([0,-100,L1]).reshape(3,1)\n",
        "res = inverse_kinematics(x, L1, L2, L3, side='r')"
      ],
      "execution_count": null,
      "outputs": []
    },
    {
      "cell_type": "code",
      "metadata": {
        "colab": {
          "base_uri": "https://localhost:8080/"
        },
        "id": "H8Tub3IpgVOW",
        "outputId": "283ce2d6-f0ec-4f64-c15c-6bb4c8f5b798"
      },
      "source": [
        "int(round(coef_servo_i[0] * (res[0][0]) + coef_servo_i[1],0))"
      ],
      "execution_count": null,
      "outputs": [
        {
          "output_type": "execute_result",
          "data": {
            "text/plain": [
              "1493"
            ]
          },
          "metadata": {},
          "execution_count": 27
        }
      ]
    },
    {
      "cell_type": "code",
      "metadata": {
        "colab": {
          "base_uri": "https://localhost:8080/"
        },
        "id": "dATWNsligY7O",
        "outputId": "5196798e-a750-40cb-a82d-2b3cb5ffd593"
      },
      "source": [
        "int(round(coef_servo_ii[0] * (res[1][0]) + coef_servo_ii[1],0))"
      ],
      "execution_count": null,
      "outputs": [
        {
          "output_type": "execute_result",
          "data": {
            "text/plain": [
              "1362"
            ]
          },
          "metadata": {},
          "execution_count": 28
        }
      ]
    },
    {
      "cell_type": "code",
      "metadata": {
        "colab": {
          "base_uri": "https://localhost:8080/"
        },
        "id": "d59xKJb5gZ1N",
        "outputId": "4e2525a9-bd2a-410f-ee41-c00fa2e76cec"
      },
      "source": [
        "int(round(coef_servo_iii[0] * (res[2][0]) + coef_servo_iii[1],0))"
      ],
      "execution_count": null,
      "outputs": [
        {
          "output_type": "execute_result",
          "data": {
            "text/plain": [
              "1639"
            ]
          },
          "metadata": {},
          "execution_count": 29
        }
      ]
    },
    {
      "cell_type": "code",
      "metadata": {
        "colab": {
          "base_uri": "https://localhost:8080/",
          "height": 317
        },
        "id": "60Yywx2fh1Sh",
        "outputId": "c02b2a50-2625-4504-a8c4-e8ebc9083521"
      },
      "source": [
        "import numpy as np\n",
        "import matplotlib.pyplot as plt\n",
        "\n",
        "# RF_servo_i data:\n",
        "DEG_TO_RAD  = 0.0174533\n",
        "x_grad = [0,90,-90]\n",
        "\n",
        "x = [e*DEG_TO_RAD for e in x_grad]\n",
        "\n",
        "y = [1500,2425,530]\n",
        "coef_servo_i = np.polyfit(x,y,1)\n",
        "poly1d_fn = np.poly1d(coef_servo_i) \n",
        "print(coef_servo_i)\n",
        "# poly1d_fn is now a function which takes in x and returns an estimate for y\n",
        "plt.plot(x,y, 'go', x, poly1d_fn(x), 'k') #'--k'=black dashed line, 'yo' = yellow circle marker"
      ],
      "execution_count": null,
      "outputs": [
        {
          "output_type": "stream",
          "name": "stdout",
          "text": [
            "[ 603.1969758 1485.       ]\n"
          ]
        },
        {
          "output_type": "execute_result",
          "data": {
            "text/plain": [
              "[<matplotlib.lines.Line2D at 0x7f6bbf13d350>,\n",
              " <matplotlib.lines.Line2D at 0x7f6bbf13d190>]"
            ]
          },
          "metadata": {},
          "execution_count": 30
        },
        {
          "output_type": "display_data",
          "data": {
            "image/png": "[encoded data removed]",
            "text/plain": [
              "<Figure size 432x288 with 1 Axes>"
            ]
          },
          "metadata": {
            "needs_background": "light"
          }
        }
      ]
    },
    {
      "cell_type": "code",
      "metadata": {
        "colab": {
          "base_uri": "https://localhost:8080/",
          "height": 316
        },
        "id": "uXDe7eo9izgE",
        "outputId": "fa699776-6913-4688-8da5-028efe874a6c"
      },
      "source": [
        "import numpy as np\n",
        "import matplotlib.pyplot as plt\n",
        "\n",
        "# RF_servo_ii data:\n",
        "DEG_TO_RAD  = 0.0174533\n",
        "x_grad = [-90,0]\n",
        "\n",
        "x = [e*DEG_TO_RAD for e in x_grad]\n",
        "\n",
        "y = [950,1920]\n",
        "coef_servo_ii = np.polyfit(x,y,1)\n",
        "poly1d_fn = np.poly1d(coef_servo_ii) \n",
        "print(coef_servo_ii)\n",
        "# poly1d_fn is now a function which takes in x and returns an estimate for y\n",
        "plt.plot(x,y, 'go', x, poly1d_fn(x), 'k') #'--k'=black dashed line, 'yo' = yellow circle marker"
      ],
      "execution_count": null,
      "outputs": [
        {
          "output_type": "stream",
          "name": "stdout",
          "text": [
            "[ 617.52091454 1920.        ]\n"
          ]
        },
        {
          "output_type": "execute_result",
          "data": {
            "text/plain": [
              "[<matplotlib.lines.Line2D at 0x7f6bbf0aae50>,\n",
              " <matplotlib.lines.Line2D at 0x7f6bbf13d4d0>]"
            ]
          },
          "metadata": {},
          "execution_count": 31
        },
        {
          "output_type": "display_data",
          "data": {
            "image/png": "[encoded data removed]",
            "text/plain": [
              "<Figure size 432x288 with 1 Axes>"
            ]
          },
          "metadata": {
            "needs_background": "light"
          }
        }
      ]
    },
    {
      "cell_type": "code",
      "metadata": {
        "colab": {
          "base_uri": "https://localhost:8080/",
          "height": 316
        },
        "id": "ZZ8etprhnK96",
        "outputId": "be402801-34da-4831-8e91-e1d698473d61"
      },
      "source": [
        "import numpy as np\n",
        "import matplotlib.pyplot as plt\n",
        "\n",
        "# RF_servo_iii data:\n",
        "DEG_TO_RAD  = 0.0174533\n",
        "x_grad = [59.01,65.26,73.33,81.09,88.36,95.5,103.09,110.66,117.96]\n",
        "\n",
        "bias = 90 - 88.36\n",
        "x = [(e+bias)*DEG_TO_RAD for e in x_grad]\n",
        "\n",
        "y = [1200,1300,1400,1500,1600,1700,1800,1900,2000]\n",
        "coef_servo_iii = np.polyfit(x,y,1)\n",
        "poly1d_fn = np.poly1d(coef_servo_iii) \n",
        "print(coef_servo_iii)\n",
        "# poly1d_fn is now a function which takes in x and returns an estimate for y\n",
        "plt.plot(x,y, 'go', x, poly1d_fn(x), 'k') #'--k'=black dashed line, 'yo' = yellow circle marker"
      ],
      "execution_count": null,
      "outputs": [
        {
          "output_type": "stream",
          "name": "stdout",
          "text": [
            "[770.71684269 390.82502023]\n"
          ]
        },
        {
          "output_type": "execute_result",
          "data": {
            "text/plain": [
              "[<matplotlib.lines.Line2D at 0x7f6bbf09fed0>,\n",
              " <matplotlib.lines.Line2D at 0x7f6bbf0aafd0>]"
            ]
          },
          "metadata": {},
          "execution_count": 32
        },
        {
          "output_type": "display_data",
          "data": {
            "image/png": "[encoded data removed]",
            "text/plain": [
              "<Figure size 432x288 with 1 Axes>"
            ]
          },
          "metadata": {
            "needs_background": "light"
          }
        }
      ]
    },
    {
      "cell_type": "code",
      "metadata": {
        "id": "MqeNisfWonn0"
      },
      "source": [
        "x = np.array([0,-100,L1]).reshape(3,1)\n",
        "res = inverse_kinematics(x, L1, L2, L3, side='r')\n"
      ],
      "execution_count": null,
      "outputs": []
    },
    {
      "cell_type": "code",
      "metadata": {
        "colab": {
          "base_uri": "https://localhost:8080/"
        },
        "id": "bsPSR5kEpmUe",
        "outputId": "4cec8b56-8ec9-4a35-86ef-366f63975bdd"
      },
      "source": [
        "int(round(coef_servo_i[0] * (res[0][0]) + coef_servo_i[1],0))"
      ],
      "execution_count": null,
      "outputs": [
        {
          "output_type": "execute_result",
          "data": {
            "text/plain": [
              "1485"
            ]
          },
          "metadata": {},
          "execution_count": 34
        }
      ]
    },
    {
      "cell_type": "code",
      "metadata": {
        "colab": {
          "base_uri": "https://localhost:8080/"
        },
        "id": "rn58XyXJpqNc",
        "outputId": "783ada8d-2856-4958-b943-4a4bbbed2507"
      },
      "source": [
        "int(round(coef_servo_ii[0] * (res[1][0]) + coef_servo_ii[1],0))"
      ],
      "execution_count": null,
      "outputs": [
        {
          "output_type": "execute_result",
          "data": {
            "text/plain": [
              "1388"
            ]
          },
          "metadata": {},
          "execution_count": 35
        }
      ]
    },
    {
      "cell_type": "code",
      "metadata": {
        "colab": {
          "base_uri": "https://localhost:8080/"
        },
        "id": "3Ee93mLCprCo",
        "outputId": "3cf0c17d-cb5b-4a90-8005-c5971a5aa775"
      },
      "source": [
        "int(round(coef_servo_iii[0] * (res[2][0]) + coef_servo_iii[1],0))"
      ],
      "execution_count": null,
      "outputs": [
        {
          "output_type": "execute_result",
          "data": {
            "text/plain": [
              "1731"
            ]
          },
          "metadata": {},
          "execution_count": 36
        }
      ]
    },
    {
      "cell_type": "code",
      "metadata": {
        "id": "aj_NfgxMp2sw"
      },
      "source": [
        ""
      ],
      "execution_count": null,
      "outputs": []
    }
  ]
}