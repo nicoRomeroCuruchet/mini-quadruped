{
  "nbformat": 4,
  "nbformat_minor": 0,
  "metadata": {
    "colab": {
      "name": "simulations_mini-quadruped.ipynb",
      "provenance": [],
      "collapsed_sections": [],
      "authorship_tag": "ABX9TyN43NBSm20GoA92ovUIDCZG"
    },
    "kernelspec": {
      "display_name": "Python 3",
      "name": "python3"
    }
  },
  "cells": [
    {
      "cell_type": "markdown",
      "metadata": {
        "id": "5TlIg7WyuTv0"
      },
      "source": [
        "The followings code will allow you generate diferents perspectives of the quadruped  results for   artitrary values of angles ψ, θ, φ and a T traslation. \n",
        "\n",
        " - In Section 1 are defined the imports and the dimensions of the quadruped: \n",
        "\n",
        "        L1: Correspond to the coxa's length.\n",
        "        L2: Correspond to the femur's lenght.\n",
        "        L3: Correspond to the tibia's lenght.\n"
      ]
    },
    {
      "cell_type": "code",
      "metadata": {
        "id": "xoQwRhIBAktD"
      },
      "source": [
        "# Section 1:\n",
        "\n",
        "import sys\n",
        "import math\n",
        "import numpy as np\n",
        "import matplotlib.pyplot as plt\n",
        "\n",
        "# Quadruped's dimensions:\n",
        "L1, L2, L3 = 45, 78, 80\n",
        "torso_lenght = 150\n",
        "torso_width  = 90"
      ],
      "execution_count": 36,
      "outputs": []
    },
    {
      "cell_type": "markdown",
      "metadata": {
        "id": "Pfd17Db32sJm"
      },
      "source": [
        "- In the Sectiion 2 are defined the python's functions that solve the graphs of the positions of each of the elements of the robot:     \n",
        "        \n",
        "       graph_leg_side_view: get the graph of one leg from side view.\n",
        "       graph_leg_front_or_back_view: get the graph of one leg from the front view or back view.\n",
        "       rotation: perform an arbitrary rotation around an axe:'x', 'y' or 'z'.\n",
        "       inverse_kinematics: get the inverse kinematics algorithm."
      ]
    },
    {
      "cell_type": "code",
      "metadata": {
        "id": "f8re58d-yhOk"
      },
      "source": [
        "# Section 2:\n",
        "\n",
        "def graph_leg_side_view(gamma, sys_r, \n",
        "                        L1=L1, \n",
        "                        L2=L2, \n",
        "                        L3=L3,\n",
        "                        side='r',\n",
        "                        linestyle='solid'):\n",
        "\n",
        "    \"\"\" Get the graph of one leg of the quadruped from side view.\n",
        "\n",
        "        Parameters :\n",
        "           - gamma: (numpy array) joints' angles vector.\n",
        "           - sys_r: (numpy array) position of the leg's begining.\n",
        "           - L1: (float) Coxa's lenght.\n",
        "           - L2: (float) femur's lenght.\n",
        "           - L3: (float) tibia's lenght.\n",
        "           - side: (string) the side of the quadruped.\n",
        "           - linestyle: (string) type of the line.\n",
        "    \"\"\"\n",
        "    gamma_1 = float(gamma[0][0])  \n",
        "    gamma_2 = float(gamma[1][0])  \n",
        "    gamma_3 = float(gamma[2][0])  \n",
        "\n",
        "    s = 1 if side =='r' else -1\n",
        "\n",
        "    x0, y0, _ = float(sys_r[0][0]), float(sys_r[1][0]), float(sys_r[2][0])\n",
        "    rot_l1 = np.add(rotation('x', gamma_1, np.array([0, 0, s*L1]).reshape(3,1)), \n",
        "                                                                        sys_r)            \n",
        "    # plot coxa\n",
        "    plt.plot([x0, rot_l1[0][0]], [y0, rot_l1[1][0]], \n",
        "                                    color='r', \n",
        "                                    linestyle=linestyle, \n",
        "                                    linewidth=1.)\n",
        "    \n",
        "    rot_l2 = rotation('z', gamma_2, np.array([0,-L2, 0]).reshape(3,1))\n",
        "    rot_l2 = np.add(rotation('x', gamma_1, rot_l2), rot_l1)\n",
        "    # plor femur\n",
        "    plt.plot([rot_l1[0][0], rot_l2[0][0]], [rot_l1[1][0], rot_l2[1][0]], \n",
        "                                    color='b', \n",
        "                                    linestyle=linestyle, \n",
        "                                    linewidth=1.)\n",
        "    \n",
        "    rot_l3 = rotation('z', gamma_2+gamma_3, np.array([0,-L3, 0]).reshape(3,1))\n",
        "    rot_l3 = np.add(rotation('x', gamma_1, rot_l3), rot_l2)\n",
        "    # plot tibia\n",
        "    plt.plot([rot_l2[0][0], rot_l3[0][0]], [rot_l2[1][0], rot_l3[1][0]], \n",
        "                                    color='m', \n",
        "                                    linestyle=linestyle, \n",
        "                                    linewidth=1.)\n",
        "\n",
        "def graph_leg_front_or_back_view(gamma, \n",
        "                         sys_r,\n",
        "                         L1=L1, \n",
        "                         L2=L2, \n",
        "                         L3=L3, \n",
        "                         side='r',\n",
        "                         front=True,\n",
        "                         linestyle='solid'):\n",
        "    \n",
        "    \"\"\" Get the graph of one leg of the quadruped from the front view or\n",
        "        back view.\n",
        "\n",
        "        Parameters :\n",
        "            - gamma: (numpy array) joints' angles vector.\n",
        "            - sys_r: (numpy array) position of the leg's begining.\n",
        "            - L1: (float) Coxa's lenght.\n",
        "            - L2: (float) femur's lenght.\n",
        "            - L3: (float) tibia's lenght.\n",
        "            - side: (string) the side of the quadruped.\n",
        "            - front: (bool) True is for the front, False for the back.\n",
        "            - linestyle: (string) type of the line.\n",
        "    \"\"\"\n",
        "    gamma_1 = float(gamma[0][0])  \n",
        "    gamma_2 = float(gamma[1][0])  \n",
        "    gamma_3 = float(gamma[2][0])  \n",
        "\n",
        "    #side\n",
        "    s = 1 if side =='r' else -1\n",
        "\n",
        "    x0, y0, z0 = sys_r[0][0], sys_r[1][0], sys_r[2][0] \n",
        "\n",
        "    rot_l1 = np.add(rotation('x', gamma_1, np.array([0, 0, s*L1]).reshape(3,1)), \n",
        "                                                    sys_r)            \n",
        "\n",
        "    if side == 'l' and front  : plt.axis([rot_l1[2][0], z0, 0.01, -0.01])\n",
        "    if side == 'l' and ~front : plt.axis([rot_l1[2][0], z0, -0.01, 0.01])\n",
        "\n",
        "    plt.plot([z0, rot_l1[2][0]], [y0, rot_l1[1][0]], \n",
        "                                    color='r', \n",
        "                                    linestyle=linestyle, \n",
        "                                    linewidth=1.)\n",
        "    \n",
        "    rot_l2 = np.add(rotation('x', gamma_1, \n",
        "                             np.array([0,-L2*np.cos(gamma_2), 0]).reshape(3,1)), \n",
        "                             rot_l1)\n",
        "\n",
        "    plt.plot([rot_l1[2][0], rot_l2[2][0]], [rot_l1[1][0], rot_l2[1][0]], \n",
        "                                    color='b', \n",
        "                                    linestyle=linestyle, \n",
        "                                    linewidth=1.)\n",
        "    \n",
        "    rot_l3 = np.add(rotation('x', gamma_1, \n",
        "                              np.array([0,-L3*np.cos(gamma_2+gamma_3), 0]).reshape(3,1)), \n",
        "                              rot_l2)\n",
        "    \n",
        "    plt.plot([rot_l2[2][0], rot_l3[2][0]], [rot_l2[1][0], rot_l3[1][0]], \n",
        "                                    color='m', \n",
        "                                    linestyle=linestyle, \n",
        "                                    linewidth=1.)\n",
        "\n",
        "def rotation(axe, angle, vector):\n",
        "\n",
        "    \"\"\" Rotation around an axe:'x', 'y' or 'z' \n",
        "        Parameters:\n",
        "            - axe (string): the axis around where you want to make the rotation.\n",
        "            - angle (float): the angle in radian what you want to rotate.\n",
        "            - vector (numpy vector (3,1)): the vector to rotate.\n",
        "        Return:\n",
        "         numpy array of shape (3,1) the rotated vector an angle arround the axe.\n",
        "    \"\"\"\n",
        "\n",
        "    R = None \n",
        "    c = np.cos(angle)\n",
        "    s = np.sin(angle)\n",
        "\n",
        "    if axe == 'x':\n",
        "\n",
        "        R = np.array([[1, 0,  0],\n",
        "                      [0, c, -s],\n",
        "                      [0, s,  c]]) \n",
        "    elif axe == 'y':\n",
        "\n",
        "        R = np.array([[ c, 0, s],\n",
        "                      [ 0, 1, 0],\n",
        "                      [-s, 0, c ]])\n",
        "    elif axe == 'z':\n",
        "\n",
        "        R = np.array([[c, -s, 0],\n",
        "                      [s,  c, 0],\n",
        "                      [0,  0, 1]])\n",
        "        \n",
        "    \n",
        "    return np.round(R @ vector, 4).reshape((3,1))\n",
        "\n",
        "\n",
        "def inverse_kinematics(x, L_1, L_2, L_3, side='r'):\n",
        "\n",
        "    \"\"\" Inverse kinematics algorithm. \n",
        "        Parameters:\n",
        "            - X: (numpy array) position of the leg's tip.\n",
        "            - L1: (float) Coxa's lenght.\n",
        "            - L2: (float) femur's lenght.\n",
        "            - L3: (float) tibia's lenght.\n",
        "            - side: (string) the side of the quadruped.\n",
        "        Returun:\n",
        "            numpy vector of shape(3,1) with the angle of each joint.\n",
        "\n",
        "    \"\"\"\n",
        "\n",
        "    s = 1.0  if side == 'r' else  -1.0\n",
        "\n",
        "    x_1 = float(x[0][0])\n",
        "    x_2 = float(x[1][0])\n",
        "    x_3 = float(x[2][0])\n",
        "\n",
        "    D = (x_1**2 + x_2**2 + x_3**2 - L_1**2 - L_2**2 - L_3**2) / (2*L_2*L_3)\n",
        "    delta = np.sqrt(x_2**2 + x_3**2 - L_1**2)\n",
        "\n",
        "    if 1 - D**2 >=0:\n",
        "\n",
        "        theta_1 = np.arctan2(x_2, -x_3)  + np.arctan2(delta, -s*L_1) \n",
        "\n",
        "        theta_3 = np.arctan2(np.sqrt(1 - D**2), D)\n",
        "\n",
        "        theta_2 = np.arctan2(x_1, delta) - np.arctan2(L_3*np.sin(theta_3), \n",
        "                                                      L_2 + L_3*np.cos(theta_3))\n",
        "        \n",
        "        return np.round(np.array([theta_1, theta_2, theta_3]),4).reshape(3,1)\n",
        "    else:\n",
        "        print('this position ', x, ' is not allowed')\n",
        "        sys.exit(0)\n",
        "        return None"
      ],
      "execution_count": 37,
      "outputs": []
    },
    {
      "cell_type": "markdown",
      "metadata": {
        "id": "b8Bg6iMG4pG8"
      },
      "source": [
        "- In section 3 is calculated the position of the quadruped after performs the rotation:\n",
        "\n"
      ]
    },
    {
      "cell_type": "code",
      "metadata": {
        "id": "NBZ1thJt_DCP"
      },
      "source": [
        "# Section 3\n",
        "psi     = 0.2 \n",
        "phi     = 0.0\n",
        "theta   = 0.2\n",
        "\n",
        "R_z = np.array([[np.cos(psi), -np.sin(psi), 0],\n",
        "                [np.sin(psi),  np.cos(psi), 0],\n",
        "                [0          ,  0,           1]])\n",
        "\n",
        "R_y = np.array([[np.cos(phi),  0, np.sin(phi)],\n",
        "                [0          ,  1,           0],\n",
        "                [-np.sin(phi), 0, np.cos(phi)]])\n",
        "\n",
        "R_x = np.array([[1,        0,                          0],\n",
        "                [0,        np.cos(theta), -np.sin(theta)],\n",
        "                [0,        np.sin(theta),  np.cos(theta)]])\n",
        "\n",
        "distant_y = -80.0\n",
        "\n",
        "rf_m_l = np.array([ torso_lenght / 2  , distant_y,  L1 + torso_width / 2]).reshape(3,1)  # right front tip of the foot measure from m\n",
        "rr_m_l = np.array([-torso_lenght / 2  , distant_y,  L1 + torso_width / 2]).reshape(3,1)  # right front tip of the foot measure from m\n",
        "lf_m_l = np.array([ torso_lenght / 2  , distant_y, -L1 - torso_width / 2]).reshape(3,1)  # right front tip of the foot measure from m\n",
        "lr_m_l = np.array([-torso_lenght / 2  , distant_y, -L1 - torso_width / 2]).reshape(3,1)  # right front tip of the foot measure from m\n",
        "\n",
        "T_y   = np.array([0.0, 0.0, 0.0]).reshape(3,1)\n",
        "# 1 - Right Front Leg\n",
        "rf_r_m_o     = np.array([torso_lenght / 2 , 0.0, torso_width / 2]).reshape(3,1)   \n",
        "rf_r_m_o_rot = np.add(R_x @ R_y @ R_z @ rf_r_m_o, T_y)                            \n",
        "rf_r_o_rot   = np.subtract(rf_m_l, rf_r_m_o_rot)                                  \n",
        "# 2 - Right Rear Leg\n",
        "rr_r_m_o     = np.array([-torso_lenght / 2 , 0.0, torso_width / 2]).reshape(3,1)  \n",
        "rr_r_m_o_rot = np.add(R_x @ R_y @ R_z @ rr_r_m_o, T_y)                            \n",
        "rr_r_o_rot   = np.subtract(rr_m_l, rr_r_m_o_rot)                                  \n",
        "# 3 - Left Front Leg \n",
        "lf_r_m_o = np.array([torso_lenght / 2 , 0.0, -torso_width / 2]).reshape(3,1)      \n",
        "lf_r_m_o_rot = np.add(R_x @ R_y @ R_z @ lf_r_m_o, T_y)                            \n",
        "lf_r_o_rot = np.subtract(lf_m_l, lf_r_m_o_rot)                                    \n",
        "# 4 - Left Rear Leg \n",
        "lr_r_m_o = np.array([-torso_lenght / 2 , 0.0, -torso_width / 2]).reshape(3,1)     \n",
        "lr_r_m_o_rot = np.add(R_x @ R_y @ R_z @ lr_r_m_o, T_y)                            \n",
        "lr_r_o_rot = np.subtract(lr_m_l, lr_r_m_o_rot)                                    "
      ],
      "execution_count": 38,
      "outputs": []
    },
    {
      "cell_type": "code",
      "metadata": {
        "colab": {
          "base_uri": "https://localhost:8080/"
        },
        "id": "h5sOYuED_lhN",
        "outputId": "506e802b-4286-491c-a792-b678990cd440"
      },
      "source": [
        "print('RF',str(inverse_kinematics(rf_r_o_rot, L1, L2, L3, side='r').reshape(1,3)).replace('  ',' ').replace('[','').replace(']', '').replace(' ', ' & '))\n",
        "print('RR',str(inverse_kinematics(rr_r_o_rot, L1, L2, L3, side='r').reshape(1,3)).replace('  ',' ').replace('[','').replace(']', '').replace(' ', ' & '))\n",
        "print('LF',str(inverse_kinematics(lf_r_o_rot, L1, L2, L3, side='l').reshape(1,3)).replace('  ',' ').replace('[','').replace(']', '').replace(' ', ' & '))\n",
        "print('LR',str(inverse_kinematics(lr_r_o_rot, L1, L2, L3, side='l').reshape(1,3)).replace('  ',' ').replace('[','').replace(']', '').replace(' ', ' & '))"
      ],
      "execution_count": 39,
      "outputs": [
        {
          "output_type": "stream",
          "name": "stdout",
          "text": [
            "RF  & 0.0242 & -1.0081 & 2.0116\n",
            "RR -0.0665 & -1.2404 & 2.3685\n",
            "LF  & 0.0369 & -0.8415 & 1.6831\n",
            "LR -0.028 & -1.1345 & 2.1796\n"
          ]
        }
      ]
    },
    {
      "cell_type": "code",
      "metadata": {
        "colab": {
          "base_uri": "https://localhost:8080/",
          "height": 283
        },
        "id": "gqyvTvWiDto_",
        "outputId": "5a1f7e6c-4b5b-4ab4-b05d-d0aa7c89c931"
      },
      "source": [
        "# Before Rotation\n",
        "# Legs Draw:\n",
        "# Front\n",
        "graph_leg_side_view(inverse_kinematics(np.subtract(rf_m_l,rf_r_m_o), \n",
        "                                                        L1, L2, L3, \n",
        "                                                        side='r'), \n",
        "                                                        rf_r_m_o,\n",
        "                                                        side = 'r',  \n",
        "                                                        linestyle='dashed')\n",
        "# Rear\n",
        "graph_leg_side_view(inverse_kinematics(np.subtract(rr_m_l,rr_r_m_o), \n",
        "                                                        L1, L2, L3, \n",
        "                                                        side='r'), \n",
        "                                                        rr_r_m_o, \n",
        "                                                        side='r',\n",
        "                                                        linestyle='dashed')\n",
        "# Body Draw:\n",
        "plt.plot([rr_r_m_o[0][0], rf_r_m_o[0][0]],\n",
        "         [rr_r_m_o[1][0], rf_r_m_o[1][0]], \n",
        "         color='black', \n",
        "         linestyle='dashed', \n",
        "         linewidth=1.0)\n",
        "\n",
        "# After Rotation:\n",
        "# Legs Draw:\n",
        "graph_leg_side_view(inverse_kinematics(rf_r_o_rot, L1, L2, L3, side='r'), \n",
        "                                                rf_r_m_o_rot, \n",
        "                                                side='r',\n",
        "                                                linestyle='solid')\n",
        "graph_leg_side_view(inverse_kinematics(rr_r_o_rot, L1, L2, L3, side='r'), \n",
        "                                                rr_r_m_o_rot,\n",
        "                                                side ='r', \n",
        "                                                linestyle='solid')\n",
        "# Body Draw:\n",
        "plt.plot([rr_r_m_o_rot[0][0], rf_r_m_o_rot[0][0]],\n",
        "         [rr_r_m_o_rot[1][0], rf_r_m_o_rot[1][0]],\n",
        "         color='black', \n",
        "         linestyle='solid', \n",
        "         linewidth=1.5)\n",
        "# Flor Draw:\n",
        "plt.plot([-150, 100], [-81, -81], color='black', linewidth=3.5)\n",
        "\n",
        "plt.grid(color='black', linestyle='dashed', linewidth=.25)\n",
        "plt.legend(['Right Side View'],handlelength=0,loc=2, prop={'size': 17})\n",
        "plt.xlabel('Z[mm]', size=14)\n",
        "plt.ylabel('Y[mm]', size=14)\n",
        "plt.axis('equal')\n",
        "#plt.axis('off')\n",
        "plt.show()"
      ],
      "execution_count": 40,
      "outputs": [
        {
          "output_type": "display_data",
          "data": {
            "text/plain": [
              "<Figure size 432x288 with 1 Axes>"
            ],
            "image/png": "[encoded data removed]"
          },
          "metadata": {
            "needs_background": "light"
          }
        }
      ]
    },
    {
      "cell_type": "code",
      "metadata": {
        "colab": {
          "base_uri": "https://localhost:8080/",
          "height": 286
        },
        "id": "FNORARxeEz4Y",
        "outputId": "f9c4b0a6-31a9-4ced-844c-ce1347b8a975"
      },
      "source": [
        "# Before Rotation\n",
        "# Legs Draw:\n",
        "graph_leg_side_view(inverse_kinematics(np.subtract(lf_m_l,lf_r_m_o), \n",
        "                                                        L1, L2, L3, \n",
        "                                                        side='l'), \n",
        "                                                        lf_r_m_o,\n",
        "                                                        side='l',\n",
        "                                                        linestyle='dashed')\n",
        "\n",
        "graph_leg_side_view(inverse_kinematics(np.subtract(lr_m_l,lr_r_m_o), \n",
        "                                                        L1, L2, L3, \n",
        "                                                        side='l'), \n",
        "                                                        lr_r_m_o,\n",
        "                                                        side='l', \n",
        "                                                        linestyle='dashed')\n",
        "# Body Draw:\n",
        "plt.plot([lr_r_m_o[0][0], lf_r_m_o[0][0]],\n",
        "         [lr_r_m_o[1][0], lf_r_m_o[1][0]], \n",
        "         color='black', \n",
        "         linestyle='dashed', \n",
        "         linewidth=1.0)\n",
        "\n",
        "# After Rotation:\n",
        "# Legs Draw:\n",
        "graph_leg_side_view(inverse_kinematics(lf_r_o_rot, L1, L2, L3, side='l'), \n",
        "                                                lf_r_m_o_rot,\n",
        "                                                side='l' ,\n",
        "                                                linestyle='solid')\n",
        "graph_leg_side_view(inverse_kinematics(lr_r_o_rot, L1, L2, L3, side='l'), \n",
        "                                                lr_r_m_o_rot,\n",
        "                                                side='l', \n",
        "                                                linestyle='solid')\n",
        "# Body Draw:\n",
        "plt.plot([lr_r_m_o_rot[0][0], lf_r_m_o_rot[0][0]],\n",
        "         [lr_r_m_o_rot[1][0], lf_r_m_o_rot[1][0]],\n",
        "         color='black', \n",
        "         linestyle='solid', \n",
        "         linewidth=1.5)\n",
        "# Flor Draw:\n",
        "plt.plot([-150, 100], [-81, -81], color='black', linewidth=3.5)\n",
        "\n",
        "plt.grid(color='black', linestyle='dashed', linewidth=.25)\n",
        "plt.legend(['Left Side View'],handlelength=0,loc=2, prop={'size': 17})\n",
        "plt.xlabel('Z[mm]', size=14)\n",
        "plt.ylabel('Y[mm]', size=14)\n",
        "plt.axis('equal')\n",
        "#plt.axis('off')\n",
        "plt.show()"
      ],
      "execution_count": 41,
      "outputs": [
        {
          "output_type": "display_data",
          "data": {
            "text/plain": [
              "<Figure size 432x288 with 1 Axes>"
            ],
            "image/png": "[encoded data removed]"
          },
          "metadata": {
            "needs_background": "light"
          }
        }
      ]
    },
    {
      "cell_type": "code",
      "metadata": {
        "colab": {
          "base_uri": "https://localhost:8080/",
          "height": 283
        },
        "id": "8PmjSLhxLO8p",
        "outputId": "68a8a832-41de-4b31-f926-145635fd8497"
      },
      "source": [
        "# Before rotation:\n",
        "# Legs Draw:\n",
        "graph_leg_front_or_back_view(inverse_kinematics(np.subtract(rf_m_l, rf_r_m_o), \n",
        "                                                      L1, L2, L3, side='r'), \n",
        "                                        rf_r_m_o,\n",
        "                                        side ='r',\n",
        "                                        front=True,\n",
        "                                        linestyle='dashed')\n",
        "\n",
        "graph_leg_front_or_back_view(inverse_kinematics(np.subtract(lf_m_l, lf_r_m_o), \n",
        "                                                       L1, L2, L3, side='l'), \n",
        "                                        lf_r_m_o,\n",
        "                                        side='l',\n",
        "                                        front=True,\n",
        "                                        linestyle='dashed')\n",
        "\n",
        "# Body Draw:\n",
        "plt.plot([lf_r_m_o[2][0], rf_r_m_o[2][0]], \n",
        "         [lf_r_m_o[1][0], rf_r_m_o[1][0]], \n",
        "         color='black', linewidth=1.0, \n",
        "         linestyle='dashed')\n",
        "\n",
        "# After rotation:\n",
        "# Legs Draw:\n",
        "graph_leg_front_or_back_view(inverse_kinematics(rf_r_o_rot, L1, L2, L3, \n",
        "                                                side='r'), \n",
        "                                rf_r_m_o_rot,\n",
        "                                side='r',\n",
        "                                front=True,\n",
        "                                linestyle='solid')\n",
        "\n",
        "graph_leg_front_or_back_view(inverse_kinematics(lf_r_o_rot, L1, L2, L3, \n",
        "                                                side='l'), \n",
        "                                lf_r_m_o_rot,\n",
        "                                side='l',\n",
        "                                front=True,\n",
        "                                linestyle='solid')\n",
        "\n",
        "# Body Draw:\n",
        "plt.plot([lf_r_m_o_rot[2][0], rf_r_m_o_rot[2][0]],\n",
        "         [lf_r_m_o_rot[1][0], rf_r_m_o_rot[1][0]]\n",
        "         , color='k', linewidth=1.5)\n",
        "\n",
        "plt.plot([-130, 130], [-82, -82], color='black', linewidth=3.5)\n",
        "\n",
        "plt.grid(color='k', linestyle='dashed', linewidth=.25)\n",
        "plt.legend(['Front View'],handlelength=0,loc=1, prop={'size': 17})\n",
        "plt.xlabel('Z[mm]', size=14)\n",
        "plt.ylabel('Y[mm]', size=14)\n",
        "plt.axis('equal') \n",
        "#plt.axis('off')\n",
        "plt.show()"
      ],
      "execution_count": 42,
      "outputs": [
        {
          "output_type": "display_data",
          "data": {
            "text/plain": [
              "<Figure size 432x288 with 1 Axes>"
            ],
            "image/png": "[encoded data removed]"
          },
          "metadata": {
            "needs_background": "light"
          }
        }
      ]
    },
    {
      "cell_type": "code",
      "metadata": {
        "colab": {
          "base_uri": "https://localhost:8080/",
          "height": 285
        },
        "id": "cU8pDq16rbPQ",
        "outputId": "0cbb026d-bc6c-4ded-ceeb-28abafa5f2f2"
      },
      "source": [
        "# Before rotation:\n",
        "# Legs Draw:\n",
        "graph_leg_front_or_back_view(inverse_kinematics(np.subtract(rr_m_l,rr_r_m_o), \n",
        "                                                       L1, L2, L3, side='r'), \n",
        "                                    rr_r_m_o, \n",
        "                                    side='r',\n",
        "                                    front=False,                                            \n",
        "                                    linestyle='dashed')\n",
        "\n",
        "graph_leg_front_or_back_view(inverse_kinematics(np.subtract(lr_m_l,lr_r_m_o), \n",
        "                                                       L1, L2, L3, side='l'),  \n",
        "                                    lr_r_m_o, \n",
        "                                    side='l',\n",
        "                                    front=False,\n",
        "                                    linestyle='dashed')\n",
        "# Body Draw:\n",
        "plt.plot([rr_r_m_o[2][0], lr_r_m_o[2][0]], \n",
        "         [rr_r_m_o[1][0], lr_r_m_o[1][0]], \n",
        "          color='black', linewidth=1.0, \n",
        "          linestyle='dashed')\n",
        "\n",
        "# After rotation:\n",
        "# Legs Draw:\n",
        "\n",
        "graph_leg_front_or_back_view(inverse_kinematics(rr_r_o_rot, L1, L2, L3, \n",
        "                                                side='r'),             \n",
        "                    rr_r_m_o_rot,\n",
        "                    side='r',\n",
        "                    front=False,\n",
        "                    linestyle='solid')\n",
        "\n",
        "graph_leg_front_or_back_view(inverse_kinematics(lr_r_o_rot, L1, L2, L3, \n",
        "                                                side='l'),  \n",
        "                        lr_r_m_o_rot,\n",
        "                        side='l',\n",
        "                        front=False,\n",
        "                        linestyle='solid')\n",
        "\n",
        "# Body Draw:\n",
        "plt.plot([rr_r_m_o_rot[2][0], lr_r_m_o_rot[2][0]],\n",
        "         [rr_r_m_o_rot[1][0], lr_r_m_o_rot[1][0]],\n",
        "         color='k', linewidth=1.5)\n",
        "\n",
        "plt.plot([-130, 130], [-82, -82], color='black', linewidth=3.5)\n",
        "\n",
        "plt.grid(color='k', linestyle='dashed', linewidth=.25)\n",
        "plt.legend(['Rear View'],handlelength=0,loc=1, prop={'size': 17})\n",
        "plt.xlabel('Z[mm]', size=14)\n",
        "plt.ylabel('Y[mm]', size=14)\n",
        "plt.axis('equal')\n",
        "#plt.axis('off')\n",
        "plt.show()"
      ],
      "execution_count": 43,
      "outputs": [
        {
          "output_type": "display_data",
          "data": {
            "text/plain": [
              "<Figure size 432x288 with 1 Axes>"
            ],
            "image/png": "[encoded data removed]"
          },
          "metadata": {
            "needs_background": "light"
          }
        }
      ]
    },
    {
      "cell_type": "code",
      "metadata": {
        "colab": {
          "base_uri": "https://localhost:8080/",
          "height": 297
        },
        "id": "cL7DgjnCCzsi",
        "outputId": "e3fd5c29-bf5d-4165-d808-487b39b21277"
      },
      "source": [
        "import numpy as np\n",
        "from mpl_toolkits.mplot3d import axes3d\n",
        "import matplotlib.pyplot as plt\n",
        "\n",
        "fig = plt.figure(num=1, clear=True)\n",
        "ax = fig.add_subplot(1, 1, 1, projection='3d')\n",
        "\n",
        "RR_x, RF_x = rr_r_m_o_rot[0][0], rf_r_m_o_rot[0][0] \n",
        "RR_y, RF_y = rr_r_m_o_rot[1][0], rf_r_m_o_rot[1][0]\n",
        "RR_z, RF_z = rr_r_m_o_rot[2][0], rf_r_m_o_rot[2][0]\n",
        "\n",
        "LR_x, LF_x = lr_r_m_o_rot[0][0], lf_r_m_o_rot[0][0]\n",
        "LR_y, LF_y = lr_r_m_o_rot[1][0], lf_r_m_o_rot[1][0]\n",
        "LR_z, LF_z = lr_r_m_o_rot[2][0], lf_r_m_o_rot[2][0]\n",
        "\n",
        "x = np.array([[RR_x, RF_x], [LR_x, LF_x]])\n",
        "y = np.array([[RR_y, RF_y], [LR_y, LF_y]])\n",
        "z = np.array([[RR_z, RF_z], [LR_z, LF_z]])\n",
        "\n",
        "ax.plot_surface(x, z, y, color='gray',alpha=.3)\n",
        "\n",
        "# RIGHT FRONT\n",
        "gamma = inverse_kinematics(rf_r_o_rot, L1, L2, L3, side='r')\n",
        "                                                \n",
        "gamma_1 = float(gamma[0][0])  \n",
        "gamma_2 = float(gamma[1][0])  \n",
        "gamma_3 = float(gamma[2][0])  \n",
        "\n",
        "x0, y0, z0 = float(RF_x), float(RF_y), float(RF_z)\n",
        "rot_l1 = np.add(rotation('x', gamma_1, np.array([0, 0, L1]).reshape(3,1)), \n",
        "                                        rf_r_m_o_rot)            \n",
        "# plot coxa\n",
        "ax.plot([x0, rot_l1[0][0]], [z0, rot_l1[2][0]],[y0, rot_l1[1][0]], \n",
        "                                color='r', \n",
        "                                linewidth=1.)\n",
        "\n",
        "rot_l2 = rotation('z', gamma_2, np.array([0,-L2, 0]).reshape(3,1))\n",
        "rot_l2 = np.add(rotation('x', gamma_1, rot_l2), rot_l1)\n",
        "# plot femur\n",
        "ax.plot([rot_l1[0][0], rot_l2[0][0]], \n",
        "        [rot_l1[2][0], rot_l2[2][0]],\n",
        "        [rot_l1[1][0], rot_l2[1][0]], \n",
        "        color='b', \n",
        "        linewidth=1.)\n",
        "\n",
        "rot_l3 = rotation('z', gamma_2 + gamma_3, np.array([0,-L3, 0]).reshape(3,1))\n",
        "rot_l3 = np.add(rotation('x', gamma_1, rot_l3), rot_l2)\n",
        "\n",
        "# plot tibia\n",
        "ax.plot([rot_l2[0][0], rot_l3[0][0]], \n",
        "        [rot_l2[2][0], rot_l3[2][0]], \n",
        "        [rot_l2[1][0], rot_l3[1][0]],\n",
        "        color='m', \n",
        "        linewidth=1.)\n",
        "\n",
        "\n",
        "#LEFT FRONT\n",
        "gamma = inverse_kinematics(lf_r_o_rot, L1, L2, L3, side='l')\n",
        "                                                \n",
        "gamma_1 = float(gamma[0][0])  \n",
        "gamma_2 = float(gamma[1][0])  \n",
        "gamma_3 = float(gamma[2][0])  \n",
        "\n",
        "x0, y0, z0 = float(LF_x), float(LF_y), float(LF_z)\n",
        "rot_l1 = np.add(rotation('x', gamma_1, np.array([0, 0, -L1]).reshape(3,1)), lf_r_m_o_rot)            \n",
        "# plot coxa\n",
        "ax.plot([x0, rot_l1[0][0]], [z0, rot_l1[2][0]],[y0, rot_l1[1][0]], \n",
        "                                color='r', \n",
        "                                linewidth=1.)\n",
        "rot_l2 = rotation('z', gamma_2, np.array([0,-L2, 0]).reshape(3,1))\n",
        "rot_l2 = np.add(rotation('x', gamma_1, rot_l2), rot_l1)\n",
        "# plor femur\n",
        "ax.plot([rot_l1[0][0], rot_l2[0][0]], \n",
        "        [rot_l1[2][0], rot_l2[2][0]],\n",
        "        [rot_l1[1][0], rot_l2[1][0]], \n",
        "        color='b', \n",
        "        linewidth=1.)\n",
        "\n",
        "rot_l3 = rotation('z', gamma_2 + gamma_3, np.array([0,-L3, 0]).reshape(3,1))\n",
        "rot_l3 = np.add(rotation('x', gamma_1, rot_l3), rot_l2)\n",
        "# plot tibia\n",
        "ax.plot([rot_l2[0][0], rot_l3[0][0]], \n",
        "        [rot_l2[2][0], rot_l3[2][0]], \n",
        "        [rot_l2[1][0], rot_l3[1][0]],\n",
        "        color='m', \n",
        "        linewidth=1.)\n",
        "\n",
        "# LEFT REAR\n",
        "gamma = inverse_kinematics(lr_r_o_rot, L1, L2, L3, side='l')\n",
        "                                                \n",
        "gamma_1 = float(gamma[0][0])  \n",
        "gamma_2 = float(gamma[1][0])  \n",
        "gamma_3 = float(gamma[2][0])  \n",
        "\n",
        "x0, y0, z0 = float(LR_x), float(LR_y), float(LR_z)\n",
        "rot_l1 = np.add(rotation('x', gamma_1, np.array([0, 0, -L1]).reshape(3,1)), lr_r_m_o_rot)            \n",
        "# plot coxa\n",
        "ax.plot([x0, rot_l1[0][0]], [z0, rot_l1[2][0]],[y0, rot_l1[1][0]], \n",
        "                                color='r', \n",
        "                                linewidth=1.)\n",
        "rot_l2 = rotation('z', gamma_2, np.array([0,-L2, 0]).reshape(3,1))\n",
        "rot_l2 = np.add(rotation('x', gamma_1, rot_l2), rot_l1)\n",
        "# plor femur\n",
        "ax.plot([rot_l1[0][0], rot_l2[0][0]], \n",
        "        [rot_l1[2][0], rot_l2[2][0]],\n",
        "        [rot_l1[1][0], rot_l2[1][0]], \n",
        "        color='b', \n",
        "        linewidth=1.)\n",
        "\n",
        "rot_l3 = rotation('z', gamma_2 + gamma_3, np.array([0,-L3, 0]).reshape(3,1))\n",
        "rot_l3 = np.add(rotation('x', gamma_1, rot_l3), rot_l2)\n",
        "# plot tibia\n",
        "\n",
        "ax.plot([rot_l2[0][0], rot_l3[0][0]], \n",
        "        [rot_l2[2][0], rot_l3[2][0]], \n",
        "        [rot_l2[1][0], rot_l3[1][0]],\n",
        "         color='m', \n",
        "         linewidth=1.)\n",
        "\n",
        "# RIGHT REAR\n",
        "gamma = inverse_kinematics(rr_r_o_rot, L1, L2, L3, side='r')\n",
        "                                          \n",
        "gamma_1 = float(gamma[0][0])  \n",
        "gamma_2 = float(gamma[1][0])  \n",
        "gamma_3 = float(gamma[2][0])  \n",
        "\n",
        "x0, y0, z0 = float(RR_x), float(RR_y), float(RR_z)\n",
        "\n",
        "rot_l1 = np.add(rotation('x', gamma_1, np.array([0, 0, L1]).reshape(3,1)), \n",
        "                rr_r_m_o_rot).reshape(3,1)            \n",
        "# plot coxa\n",
        "ax.plot([x0, rot_l1[0][0]], \n",
        "        [z0, rot_l1[2][0]], \n",
        "        [y0, rot_l1[1][0]], \n",
        "        color='r', \n",
        "        linewidth=1.)\n",
        "\n",
        "rot_l2 = rotation('z', gamma_2, np.array([0,-L2, 0]).reshape(3,1))\n",
        "rot_l2 = np.add(rotation('x', gamma_1, rot_l2), rot_l1)\n",
        "# plor femur\n",
        "ax.plot([rot_l1[0][0], rot_l2[0][0]], \n",
        "        [rot_l1[2][0], rot_l2[2][0]],\n",
        "        [rot_l1[1][0], rot_l2[1][0]], \n",
        "        color='b', \n",
        "        linewidth=1.)\n",
        "\n",
        "rot_l3 = rotation('z', gamma_2+gamma_3, np.array([0,-L3, 0]).reshape(3,1))\n",
        "rot_l3 = np.add(rotation('x', gamma_1, rot_l3), rot_l2)\n",
        "# plot tibia\n",
        "ax.plot([rot_l2[0][0], rot_l3[0][0]], \n",
        "        [rot_l2[2][0], rot_l3[2][0]], \n",
        "        [rot_l2[1][0], rot_l3[1][0]],\n",
        "        color='m', \n",
        "        linewidth=1.)\n",
        "\n",
        "ax.invert_yaxis()\n",
        "#ax.invert_xaxis()\n",
        "#ax.legend(['3D quadruped view'], handlelength=0, loc=4, prop={'size': 10})\n",
        "ax.set(xlabel='X[mm]', ylabel='Z[mm]', zlabel='Y[mm]')\n",
        "fig.tight_layout()"
      ],
      "execution_count": 44,
      "outputs": [
        {
          "output_type": "display_data",
          "data": {
            "text/plain": [
              "<Figure size 432x288 with 1 Axes>"
            ],
            "image/png": "[encoded data removed]"
          },
          "metadata": {
            "needs_background": "light"
          }
        }
      ]
    },
    {
      "cell_type": "code",
      "metadata": {
        "colab": {
          "base_uri": "https://localhost:8080/",
          "height": 318
        },
        "id": "X7teLsxQJ1ky",
        "outputId": "1427c888-8cb3-4a0f-953d-67c52e42a936"
      },
      "source": [
        "import numpy as np\n",
        "import matplotlib.pyplot as plt\n",
        "# LR_servo_i data:\n",
        "DEG_TO_RAD  = 0.0174533\n",
        "x_grad = [0,-90]\n",
        "\n",
        "x = [e*DEG_TO_RAD for e in x_grad]\n",
        "\n",
        "y = [1425,2370]\n",
        "coef_servo_i = np.polyfit(x,y,1)\n",
        "print(coef_servo_i)\n",
        "poly1d_fn = np.poly1d(coef_servo_i) \n",
        "# poly1d_fn is now a function which takes in x and returns an estimate for y\n",
        "plt.plot(x,y, 'go', x, poly1d_fn(x), 'k') #'--k'=black dashed line, 'yo' = yellow circle marker"
      ],
      "execution_count": 45,
      "outputs": [
        {
          "output_type": "stream",
          "name": "stdout",
          "text": [
            "[-601.60542705 1425.        ]\n"
          ]
        },
        {
          "output_type": "execute_result",
          "data": {
            "text/plain": [
              "[<matplotlib.lines.Line2D at 0x7f5ba7b885d0>,\n",
              " <matplotlib.lines.Line2D at 0x7f5ba7b889d0>]"
            ]
          },
          "metadata": {},
          "execution_count": 45
        },
        {
          "output_type": "display_data",
          "data": {
            "text/plain": [
              "<Figure size 432x288 with 1 Axes>"
            ],
            "image/png": "[encoded data removed]"
          },
          "metadata": {
            "needs_background": "light"
          }
        }
      ]
    },
    {
      "cell_type": "code",
      "metadata": {
        "colab": {
          "base_uri": "https://localhost:8080/",
          "height": 318
        },
        "id": "z96W7nM3Fobx",
        "outputId": "0023bab1-6f96-433a-9b3e-ae4c25444763"
      },
      "source": [
        "# LR_servo_ii data:\n",
        "DEG_TO_RAD  = 0.0174533\n",
        "\n",
        "x_grad = [0,-90]\n",
        "\n",
        "x = [e*DEG_TO_RAD for e in x_grad]\n",
        "\n",
        "\n",
        "y = [1050, 2000]\n",
        "\n",
        "coef_servo_ii = np.polyfit(x,y,1)\n",
        "print(coef_servo_ii)\n",
        "poly1d_fn = np.poly1d(coef_servo_ii) \n",
        "# poly1d_fn is now a function which takes in x and returns an estimate for y\n",
        "plt.plot(x,y, 'yo', x, poly1d_fn(x), 'k') #'--k'=black dashed line, 'yo' = yellow circle marker\n"
      ],
      "execution_count": null,
      "outputs": [
        {
          "output_type": "stream",
          "name": "stdout",
          "text": [
            "[-604.78852455 1050.        ]\n"
          ]
        },
        {
          "output_type": "execute_result",
          "data": {
            "text/plain": [
              "[<matplotlib.lines.Line2D at 0x7f8cdbdd99d0>,\n",
              " <matplotlib.lines.Line2D at 0x7f8cdbdd9c10>]"
            ]
          },
          "metadata": {},
          "execution_count": 66
        },
        {
          "output_type": "display_data",
          "data": {
            "text/plain": [
              "<Figure size 432x288 with 1 Axes>"
            ],
            "image/png": "[encoded data removed]"
          },
          "metadata": {
            "needs_background": "light"
          }
        }
      ]
    },
    {
      "cell_type": "code",
      "metadata": {
        "colab": {
          "base_uri": "https://localhost:8080/",
          "height": 318
        },
        "id": "gFmkJVqxL_07",
        "outputId": "bc1c5fb5-9428-4fd7-83b8-8a89d2a1d349"
      },
      "source": [
        "# LR_servo_iii data:\n",
        "DEG_TO_RAD  = 0.0174533\n",
        "\n",
        "y = [900,1300,1600,1900]\n",
        "\n",
        "x_grad = [60.78,84.5,102.88,120.5]\n",
        "\n",
        "bias = 0.0 \n",
        "x = [(e+bias)*DEG_TO_RAD for e in x_grad]\n",
        "\n",
        "coef_servo_iii = np.polyfit(x,y,1)\n",
        "print(coef_servo_iii)\n",
        "poly1d_fn = np.poly1d(coef_servo_iii) \n",
        "# poly1d_fn is now a function which takes in x and returns an estimate for y\n",
        "plt.plot(x,y, 'yo', x, poly1d_fn(x), 'k') #'--k'=black dashed line, 'yo' = yellow circle marker\n"
      ],
      "execution_count": null,
      "outputs": [
        {
          "output_type": "stream",
          "name": "stdout",
          "text": [
            "[ 957.22527156 -114.77667663]\n"
          ]
        },
        {
          "output_type": "execute_result",
          "data": {
            "text/plain": [
              "[<matplotlib.lines.Line2D at 0x7f8cdbd507d0>,\n",
              " <matplotlib.lines.Line2D at 0x7f8cdbd50a10>]"
            ]
          },
          "metadata": {},
          "execution_count": 67
        },
        {
          "output_type": "display_data",
          "data": {
            "text/plain": [
              "<Figure size 432x288 with 1 Axes>"
            ],
            "image/png": "[encoded data removed]"
          },
          "metadata": {
            "needs_background": "light"
          }
        }
      ]
    },
    {
      "cell_type": "code",
      "metadata": {
        "id": "I3o8l4qhQ4eg"
      },
      "source": [
        "x = np.array([0,-100, -L1]).reshape(3,1)\n",
        "res = inverse_kinematics(x, L1, L2, L3, side='l')"
      ],
      "execution_count": null,
      "outputs": []
    },
    {
      "cell_type": "code",
      "metadata": {
        "colab": {
          "base_uri": "https://localhost:8080/"
        },
        "id": "4TLQfr9lS91z",
        "outputId": "a558b08e-f597-4c34-a5fa-53e886b47e78"
      },
      "source": [
        "int(round(coef_servo_i[0] * (res[0][0]) + coef_servo_i[1],0))"
      ],
      "execution_count": null,
      "outputs": [
        {
          "output_type": "execute_result",
          "data": {
            "text/plain": [
              "1425"
            ]
          },
          "metadata": {},
          "execution_count": 75
        }
      ]
    },
    {
      "cell_type": "code",
      "metadata": {
        "colab": {
          "base_uri": "https://localhost:8080/"
        },
        "id": "PrMEez5LTFBW",
        "outputId": "886562ff-11e3-4166-ddcc-d1ce6601fc4c"
      },
      "source": [
        "int(round(coef_servo_ii[0] * (res[1][0]) + coef_servo_ii[1],0))"
      ],
      "execution_count": null,
      "outputs": [
        {
          "output_type": "execute_result",
          "data": {
            "text/plain": [
              "1571"
            ]
          },
          "metadata": {},
          "execution_count": 76
        }
      ]
    },
    {
      "cell_type": "code",
      "metadata": {
        "colab": {
          "base_uri": "https://localhost:8080/"
        },
        "id": "ORk2naWeTEwD",
        "outputId": "49064c15-65d2-43da-9f9e-5609db86a715"
      },
      "source": [
        "int(round(coef_servo_iii[0] * (res[2][0]) + coef_servo_iii[1],0))"
      ],
      "execution_count": null,
      "outputs": [
        {
          "output_type": "execute_result",
          "data": {
            "text/plain": [
              "1550"
            ]
          },
          "metadata": {},
          "execution_count": 77
        }
      ]
    },
    {
      "cell_type": "code",
      "metadata": {
        "colab": {
          "base_uri": "https://localhost:8080/",
          "height": 318
        },
        "id": "MHDVUcMAsvzp",
        "outputId": "61155bd7-0b70-4a0b-cc82-c5fb8690d22e"
      },
      "source": [
        "import numpy as np\n",
        "import matplotlib.pyplot as plt\n",
        "\n",
        "# LF_servo_i data:\n",
        "DEG_TO_RAD  = 0.0174533\n",
        "x_grad = [0,-90, 90]\n",
        "\n",
        "x = [e*DEG_TO_RAD for e in x_grad]\n",
        "\n",
        "y = [1460,550,2385]\n",
        "coef_servo_i = np.polyfit(x,y,1)\n",
        "print(coef_servo_i)\n",
        "poly1d_fn = np.poly1d(coef_servo_i) \n",
        "# poly1d_fn is now a function which takes in x and returns an estimate for y\n",
        "plt.plot(x,y, 'go', x, poly1d_fn(x), 'k') #'--k'=black dashed line, 'yo' = yellow circle marker"
      ],
      "execution_count": null,
      "outputs": [
        {
          "output_type": "stream",
          "name": "stdout",
          "text": [
            "[ 584.09839082 1465.        ]\n"
          ]
        },
        {
          "output_type": "execute_result",
          "data": {
            "text/plain": [
              "[<matplotlib.lines.Line2D at 0x7f8cdbfe5e90>,\n",
              " <matplotlib.lines.Line2D at 0x7f8cdbf71110>]"
            ]
          },
          "metadata": {},
          "execution_count": 33
        },
        {
          "output_type": "display_data",
          "data": {
            "text/plain": [
              "<Figure size 432x288 with 1 Axes>"
            ],
            "image/png": "[encoded data removed]"
          },
          "metadata": {
            "needs_background": "light"
          }
        }
      ]
    },
    {
      "cell_type": "code",
      "metadata": {
        "colab": {
          "base_uri": "https://localhost:8080/",
          "height": 321
        },
        "id": "P0NHVE043BJg",
        "outputId": "ab07fd38-c6aa-4509-8e31-15b4ce2ef902"
      },
      "source": [
        "import numpy as np\n",
        "import matplotlib.pyplot as plt\n",
        "\n",
        "# LF_servo_ii data:\n",
        "DEG_TO_RAD  = 0.0174533\n",
        "x_grad = [-90,0]\n",
        "\n",
        "x = [e*DEG_TO_RAD for e in x_grad]\n",
        "\n",
        "y = [1955,970]\n",
        "\n",
        "coef_servo_ii = np.polyfit(x,y,1)\n",
        "poly1d_fn = np.poly1d(coef_servo_ii) \n",
        "print(coef_servo_ii)\n",
        "# poly1d_fn is now a function which takes in x and returns an estimate for y\n",
        "plt.plot(x,y, 'go', x, poly1d_fn(x), 'k') #'--k'=black dashed line, 'yo' = yellow circle marker"
      ],
      "execution_count": null,
      "outputs": [
        {
          "output_type": "stream",
          "name": "stdout",
          "text": [
            "[-627.07020704  970.        ]\n"
          ]
        },
        {
          "output_type": "execute_result",
          "data": {
            "text/plain": [
              "[<matplotlib.lines.Line2D at 0x7f8cdc0d1c10>,\n",
              " <matplotlib.lines.Line2D at 0x7f8cdc0d1b50>]"
            ]
          },
          "metadata": {},
          "execution_count": 34
        },
        {
          "output_type": "display_data",
          "data": {
            "text/plain": [
              "<Figure size 432x288 with 1 Axes>"
            ],
            "image/png": "[encoded data removed]"
          },
          "metadata": {
            "needs_background": "light"
          }
        }
      ]
    },
    {
      "cell_type": "code",
      "metadata": {
        "colab": {
          "base_uri": "https://localhost:8080/",
          "height": 318
        },
        "id": "fQgpXvosSOFc",
        "outputId": "f37dcae6-f724-4e7f-85a9-8a8426731b7b"
      },
      "source": [
        "import numpy as np\n",
        "import matplotlib.pyplot as plt\n",
        "\n",
        "# LF_servo_iii data:\n",
        "DEG_TO_RAD  = 0.0174533\n",
        "x_grad = [74.44, 88.15, 93.25, 105.42, 120.05]\n",
        "\n",
        "bias = 90 - 88.15\n",
        "x = [(e+bias)*DEG_TO_RAD for e in x_grad]\n",
        "\n",
        "y = [1250, 1450, 1550, 1750, 2000]\n",
        "\n",
        "coef_servo_iii = np.polyfit(x,y,1)\n",
        "print(coef_servo_iii)\n",
        "poly1d_fn = np.poly1d(coef_servo_iii) \n",
        "# poly1d_fn is now a function which takes in x and returns an estimate for y\n",
        "plt.plot(x,y, 'go', x, poly1d_fn(x), 'k') #'--k'=black dashed line, 'yo' = yellow circle marker"
      ],
      "execution_count": null,
      "outputs": [
        {
          "output_type": "stream",
          "name": "stdout",
          "text": [
            "[949.2240125  -25.43047706]\n"
          ]
        },
        {
          "output_type": "execute_result",
          "data": {
            "text/plain": [
              "[<matplotlib.lines.Line2D at 0x7f8cde251490>,\n",
              " <matplotlib.lines.Line2D at 0x7f8cde2516d0>]"
            ]
          },
          "metadata": {},
          "execution_count": 35
        },
        {
          "output_type": "display_data",
          "data": {
            "text/plain": [
              "<Figure size 432x288 with 1 Axes>"
            ],
            "image/png": "[encoded data removed]"
          },
          "metadata": {
            "needs_background": "light"
          }
        }
      ]
    },
    {
      "cell_type": "code",
      "metadata": {
        "id": "_QUjPLFIYMK2"
      },
      "source": [
        "x = np.array([0,-70,0-L1]).reshape(3,1)\n",
        "res = inverse_kinematics(x, L1, L2, L3, side='l')"
      ],
      "execution_count": null,
      "outputs": []
    },
    {
      "cell_type": "code",
      "metadata": {
        "colab": {
          "base_uri": "https://localhost:8080/"
        },
        "id": "RjnfRoR7YsCd",
        "outputId": "c7fe95c2-86d5-4e8f-b13b-c0c950f65ceb"
      },
      "source": [
        "int(round(coef_servo_i[0] * (res[0][0]) + coef_servo_i[1],0))"
      ],
      "execution_count": null,
      "outputs": [
        {
          "output_type": "execute_result",
          "data": {
            "text/plain": [
              "1465"
            ]
          },
          "metadata": {},
          "execution_count": 37
        }
      ]
    },
    {
      "cell_type": "code",
      "metadata": {
        "colab": {
          "base_uri": "https://localhost:8080/"
        },
        "id": "se4sndrOYzUn",
        "outputId": "3c8b5206-4c1b-4a14-a9e1-bcba5d2fe3f1"
      },
      "source": [
        "int(round(coef_servo_ii[0] * (res[1][0]) + coef_servo_ii[1],0))"
      ],
      "execution_count": null,
      "outputs": [
        {
          "output_type": "execute_result",
          "data": {
            "text/plain": [
              "1653"
            ]
          },
          "metadata": {},
          "execution_count": 38
        }
      ]
    },
    {
      "cell_type": "code",
      "metadata": {
        "colab": {
          "base_uri": "https://localhost:8080/"
        },
        "id": "9Dqw1Ac9Y52M",
        "outputId": "1b80f575-90f5-4b97-ade9-0ff1517d72cb"
      },
      "source": [
        "int(round(coef_servo_iii[0] * (res[2][0]) + coef_servo_iii[1],0))"
      ],
      "execution_count": null,
      "outputs": [
        {
          "output_type": "execute_result",
          "data": {
            "text/plain": [
              "2067"
            ]
          },
          "metadata": {},
          "execution_count": 39
        }
      ]
    },
    {
      "cell_type": "code",
      "metadata": {
        "colab": {
          "base_uri": "https://localhost:8080/",
          "height": 321
        },
        "id": "4dzOG864ZyYT",
        "outputId": "d4f156c5-2ca7-4de6-f7fb-c33b6813bf52"
      },
      "source": [
        "import numpy as np\n",
        "import matplotlib.pyplot as plt\n",
        "\n",
        "# RR_servo_i data:\n",
        "DEG_TO_RAD  = 0.0174533\n",
        "x_grad = [0,-90,90]\n",
        "\n",
        "x = [e*DEG_TO_RAD for e in x_grad]\n",
        "\n",
        "y = [1490-20,2440-20,550-20]\n",
        "coef_servo_i = np.polyfit(x,y,1)\n",
        "poly1d_fn = np.poly1d(coef_servo_i) \n",
        "print(coef_servo_i) \n",
        "# poly1d_fn is now a function which takes in x and returns an estimate for y\n",
        "plt.plot(x,y, 'go', x, poly1d_fn(x), 'k') #'--k'=black dashed line, 'yo' = yellow circle marker"
      ],
      "execution_count": null,
      "outputs": [
        {
          "output_type": "stream",
          "name": "stdout",
          "text": [
            "[-601.60542705 1473.33333333]\n"
          ]
        },
        {
          "output_type": "execute_result",
          "data": {
            "text/plain": [
              "[<matplotlib.lines.Line2D at 0x7f8cde7264d0>,\n",
              " <matplotlib.lines.Line2D at 0x7f8cde56e750>]"
            ]
          },
          "metadata": {},
          "execution_count": 40
        },
        {
          "output_type": "display_data",
          "data": {
            "text/plain": [
              "<Figure size 432x288 with 1 Axes>"
            ],
            "image/png": "[encoded data removed]"
          },
          "metadata": {
            "needs_background": "light"
          }
        }
      ]
    },
    {
      "cell_type": "code",
      "metadata": {
        "colab": {
          "base_uri": "https://localhost:8080/",
          "height": 318
        },
        "id": "szxsoLODbJ-M",
        "outputId": "74652970-04e6-49a7-92a5-4e1ab56b8342"
      },
      "source": [
        "import numpy as np\n",
        "import matplotlib.pyplot as plt\n",
        "\n",
        "# RR_servo_ii data:\n",
        "DEG_TO_RAD  = 0.0174533\n",
        "x_grad = [-90,0]\n",
        "\n",
        "x = [e*DEG_TO_RAD for e in x_grad]\n",
        "\n",
        "y = [1020,2020]\n",
        "coef_servo_ii = np.polyfit(x,y,1)\n",
        "poly1d_fn = np.poly1d(coef_servo_ii)\n",
        "print(coef_servo_ii) \n",
        "# poly1d_fn is now a function which takes in x and returns an estimate for y\n",
        "plt.plot(x,y, 'go', x, poly1d_fn(x), 'k') #'--k'=black dashed line, 'yo' = yellow circle marker"
      ],
      "execution_count": null,
      "outputs": [
        {
          "output_type": "stream",
          "name": "stdout",
          "text": [
            "[ 636.61949953 2020.        ]\n"
          ]
        },
        {
          "output_type": "execute_result",
          "data": {
            "text/plain": [
              "[<matplotlib.lines.Line2D at 0x7f8cde6afb10>,\n",
              " <matplotlib.lines.Line2D at 0x7f8cde5f1550>]"
            ]
          },
          "metadata": {},
          "execution_count": 41
        },
        {
          "output_type": "display_data",
          "data": {
            "text/plain": [
              "<Figure size 432x288 with 1 Axes>"
            ],
            "image/png": "[encoded data removed]"
          },
          "metadata": {
            "needs_background": "light"
          }
        }
      ]
    },
    {
      "cell_type": "code",
      "metadata": {
        "colab": {
          "base_uri": "https://localhost:8080/",
          "height": 318
        },
        "id": "pLrdYBTScouI",
        "outputId": "6280e8eb-4bec-4a4e-aa76-ea928ac6bcb5"
      },
      "source": [
        "import numpy as np\n",
        "import matplotlib.pyplot as plt\n",
        "\n",
        "# RR_servo_iii data:\n",
        "DEG_TO_RAD  = 0.0174533\n",
        "x_grad = [128.22, 116.4, 101.5, 91, 80.31]\n",
        "\n",
        "bias = 0.0\n",
        "x = [(e+bias)*DEG_TO_RAD for e in x_grad]\n",
        "\n",
        "y = [900, 1200, 1450 ,1625, 1800]\n",
        "coef_servo_iii = np.polyfit(x,y,1)\n",
        "poly1d_fn = np.poly1d(coef_servo_iii) \n",
        "print(coef_servo_iii)\n",
        "# poly1d_fn is now a function which takes in x and returns an estimate for y\n",
        "plt.plot(x,y, 'go', x, poly1d_fn(x), 'k') #'--k'=black dashed line, 'yo' = yellow circle marker"
      ],
      "execution_count": null,
      "outputs": [
        {
          "output_type": "stream",
          "name": "stdout",
          "text": [
            "[-1053.44201921  3297.69769341]\n"
          ]
        },
        {
          "output_type": "execute_result",
          "data": {
            "text/plain": [
              "[<matplotlib.lines.Line2D at 0x7f8cde4d6a90>,\n",
              " <matplotlib.lines.Line2D at 0x7f8cde4d61d0>]"
            ]
          },
          "metadata": {},
          "execution_count": 42
        },
        {
          "output_type": "display_data",
          "data": {
            "text/plain": [
              "<Figure size 432x288 with 1 Axes>"
            ],
            "image/png": "[encoded data removed]"
          },
          "metadata": {
            "needs_background": "light"
          }
        }
      ]
    },
    {
      "cell_type": "code",
      "metadata": {
        "id": "sAnVcYFzfq8F"
      },
      "source": [
        "x = np.array([0,-100,L1]).reshape(3,1)\n",
        "res = inverse_kinematics(x, L1, L2, L3, side='r')"
      ],
      "execution_count": null,
      "outputs": []
    },
    {
      "cell_type": "code",
      "metadata": {
        "colab": {
          "base_uri": "https://localhost:8080/"
        },
        "id": "H8Tub3IpgVOW",
        "outputId": "83fc20e0-42dc-4b52-bc17-d7505eb0a0a7"
      },
      "source": [
        "int(round(coef_servo_i[0] * (res[0][0]) + coef_servo_i[1],0))"
      ],
      "execution_count": null,
      "outputs": [
        {
          "output_type": "execute_result",
          "data": {
            "text/plain": [
              "1473"
            ]
          },
          "metadata": {},
          "execution_count": 44
        }
      ]
    },
    {
      "cell_type": "code",
      "metadata": {
        "colab": {
          "base_uri": "https://localhost:8080/"
        },
        "id": "dATWNsligY7O",
        "outputId": "ec7888ed-862b-4df9-f544-f9ec48e623de"
      },
      "source": [
        "int(round(coef_servo_ii[0] * (res[1][0]) + coef_servo_ii[1],0))"
      ],
      "execution_count": null,
      "outputs": [
        {
          "output_type": "execute_result",
          "data": {
            "text/plain": [
              "1471"
            ]
          },
          "metadata": {},
          "execution_count": 45
        }
      ]
    },
    {
      "cell_type": "code",
      "metadata": {
        "colab": {
          "base_uri": "https://localhost:8080/"
        },
        "id": "d59xKJb5gZ1N",
        "outputId": "d8e56cfc-f9c8-40f6-f47a-00e97ca20689"
      },
      "source": [
        "int(round(coef_servo_iii[0] * (res[2][0]) + coef_servo_iii[1],0))"
      ],
      "execution_count": null,
      "outputs": [
        {
          "output_type": "execute_result",
          "data": {
            "text/plain": [
              "1466"
            ]
          },
          "metadata": {},
          "execution_count": 46
        }
      ]
    },
    {
      "cell_type": "code",
      "metadata": {
        "colab": {
          "base_uri": "https://localhost:8080/",
          "height": 318
        },
        "id": "60Yywx2fh1Sh",
        "outputId": "31b63d71-e356-4913-b8e8-02522a907217"
      },
      "source": [
        "import numpy as np\n",
        "import matplotlib.pyplot as plt\n",
        "\n",
        "# RF_servo_i data:\n",
        "DEG_TO_RAD  = 0.0174533\n",
        "x_grad = [0,90]\n",
        "\n",
        "x = [e*DEG_TO_RAD for e in x_grad]\n",
        "\n",
        "y = [1500,2440]\n",
        "coef_servo_i = np.polyfit(x,y,1)\n",
        "poly1d_fn = np.poly1d(coef_servo_i) \n",
        "print(coef_servo_i)\n",
        "# poly1d_fn is now a function which takes in x and returns an estimate for y\n",
        "plt.plot(x,y, 'go', x, poly1d_fn(x), 'k') #'--k'=black dashed line, 'yo' = yellow circle marker"
      ],
      "execution_count": null,
      "outputs": [
        {
          "output_type": "stream",
          "name": "stdout",
          "text": [
            "[ 598.42232956 1500.        ]\n"
          ]
        },
        {
          "output_type": "execute_result",
          "data": {
            "text/plain": [
              "[<matplotlib.lines.Line2D at 0x7f8cde26c110>,\n",
              " <matplotlib.lines.Line2D at 0x7f8cde26c350>]"
            ]
          },
          "metadata": {},
          "execution_count": 47
        },
        {
          "output_type": "display_data",
          "data": {
            "text/plain": [
              "<Figure size 432x288 with 1 Axes>"
            ],
            "image/png": "[encoded data removed]"
          },
          "metadata": {
            "needs_background": "light"
          }
        }
      ]
    },
    {
      "cell_type": "code",
      "metadata": {
        "colab": {
          "base_uri": "https://localhost:8080/",
          "height": 318
        },
        "id": "uXDe7eo9izgE",
        "outputId": "fe765725-58d0-4892-c5b8-505aecbfd535"
      },
      "source": [
        "import numpy as np\n",
        "import matplotlib.pyplot as plt\n",
        "\n",
        "# RF_servo_ii data:\n",
        "DEG_TO_RAD  = 0.0174533\n",
        "x_grad = [-90,0]\n",
        "\n",
        "x = [e*DEG_TO_RAD for e in x_grad]\n",
        "\n",
        "y = [1040,1985]\n",
        "coef_servo_ii = np.polyfit(x,y,1)\n",
        "poly1d_fn = np.poly1d(coef_servo_ii) \n",
        "print(coef_servo_ii)\n",
        "# poly1d_fn is now a function which takes in x and returns an estimate for y\n",
        "plt.plot(x,y, 'go', x, poly1d_fn(x), 'k') #'--k'=black dashed line, 'yo' = yellow circle marker"
      ],
      "execution_count": null,
      "outputs": [
        {
          "output_type": "stream",
          "name": "stdout",
          "text": [
            "[ 601.60542705 1985.        ]\n"
          ]
        },
        {
          "output_type": "execute_result",
          "data": {
            "text/plain": [
              "[<matplotlib.lines.Line2D at 0x7f8cdbeee050>,\n",
              " <matplotlib.lines.Line2D at 0x7f8cdbeee290>]"
            ]
          },
          "metadata": {},
          "execution_count": 48
        },
        {
          "output_type": "display_data",
          "data": {
            "text/plain": [
              "<Figure size 432x288 with 1 Axes>"
            ],
            "image/png": "[encoded data removed]"
          },
          "metadata": {
            "needs_background": "light"
          }
        }
      ]
    },
    {
      "cell_type": "code",
      "metadata": {
        "colab": {
          "base_uri": "https://localhost:8080/",
          "height": 318
        },
        "id": "ZZ8etprhnK96",
        "outputId": "808432a2-7d0f-441d-98a7-a860e54996e0"
      },
      "source": [
        "import numpy as np\n",
        "import matplotlib.pyplot as plt\n",
        "\n",
        "# RF_servo_iii data:\n",
        "DEG_TO_RAD  = 0.0174533\n",
        "x_grad = [127.45, 89.91, 58.21 ]\n",
        "\n",
        "bias = 0\n",
        "x = [(e+bias)*DEG_TO_RAD for e in x_grad]\n",
        "\n",
        "y = [900,1500,2100] \n",
        "coef_servo_iii = np.polyfit(x,y,1)\n",
        "poly1d_fn = np.poly1d(coef_servo_iii) \n",
        "print(coef_servo_iii)\n",
        "# poly1d_fn is now a function which takes in x and returns an estimate for y\n",
        "plt.plot(x,y, 'go', x, poly1d_fn(x), 'k') #'--k'=black dashed line, 'yo' = yellow circle marker"
      ],
      "execution_count": null,
      "outputs": [
        {
          "output_type": "stream",
          "name": "stdout",
          "text": [
            "[-990.64488319 3088.20381872]\n"
          ]
        },
        {
          "output_type": "execute_result",
          "data": {
            "text/plain": [
              "[<matplotlib.lines.Line2D at 0x7f8cdbee5650>,\n",
              " <matplotlib.lines.Line2D at 0x7f8cdbee5890>]"
            ]
          },
          "metadata": {},
          "execution_count": 49
        },
        {
          "output_type": "display_data",
          "data": {
            "text/plain": [
              "<Figure size 432x288 with 1 Axes>"
            ],
            "image/png": "[encoded data removed]"
          },
          "metadata": {
            "needs_background": "light"
          }
        }
      ]
    },
    {
      "cell_type": "code",
      "metadata": {
        "id": "MqeNisfWonn0"
      },
      "source": [
        "x = np.array([0,-70,L1]).reshape(3,1)\n",
        "res = inverse_kinematics(x, L1, L2, L3, side='r')"
      ],
      "execution_count": null,
      "outputs": []
    },
    {
      "cell_type": "code",
      "metadata": {
        "colab": {
          "base_uri": "https://localhost:8080/"
        },
        "id": "bsPSR5kEpmUe",
        "outputId": "b833c3b5-d743-4432-9691-af666fbf288f"
      },
      "source": [
        "int(round(coef_servo_i[0] * (res[0][0]) + coef_servo_i[1],0))"
      ],
      "execution_count": null,
      "outputs": [
        {
          "output_type": "execute_result",
          "data": {
            "text/plain": [
              "1500"
            ]
          },
          "metadata": {},
          "execution_count": 51
        }
      ]
    },
    {
      "cell_type": "code",
      "metadata": {
        "colab": {
          "base_uri": "https://localhost:8080/"
        },
        "id": "rn58XyXJpqNc",
        "outputId": "90daa74a-d37c-49e5-96f7-7e666b027311"
      },
      "source": [
        "int(round(coef_servo_ii[0] * (res[1][0]) + coef_servo_ii[1],0))"
      ],
      "execution_count": null,
      "outputs": [
        {
          "output_type": "execute_result",
          "data": {
            "text/plain": [
              "1330"
            ]
          },
          "metadata": {},
          "execution_count": 52
        }
      ]
    },
    {
      "cell_type": "code",
      "metadata": {
        "colab": {
          "base_uri": "https://localhost:8080/"
        },
        "id": "3Ee93mLCprCo",
        "outputId": "08bfdc48-9a5a-4b61-925b-e1bdca52cbaa"
      },
      "source": [
        "int(round(coef_servo_iii[0] * (res[2][0]) + coef_servo_iii[1],0))"
      ],
      "execution_count": null,
      "outputs": [
        {
          "output_type": "execute_result",
          "data": {
            "text/plain": [
              "904"
            ]
          },
          "metadata": {},
          "execution_count": 53
        }
      ]
    },
    {
      "cell_type": "code",
      "metadata": {
        "id": "aj_NfgxMp2sw",
        "colab": {
          "base_uri": "https://localhost:8080/"
        },
        "outputId": "89321beb-3ef7-465b-e365-971f54fbadba"
      },
      "source": [
        "1876.54/np.sqrt(1 - 0.36**2)"
      ],
      "execution_count": null,
      "outputs": [
        {
          "output_type": "execute_result",
          "data": {
            "text/plain": [
              "2011.399718520772"
            ]
          },
          "metadata": {},
          "execution_count": 54
        }
      ]
    },
    {
      "cell_type": "code",
      "metadata": {
        "colab": {
          "base_uri": "https://localhost:8080/"
        },
        "id": "5nV62T5EsjGc",
        "outputId": "6cc16517-62e1-4ce6-e83e-4a75ff0741a5"
      },
      "source": [
        "1876.54 + 134.98"
      ],
      "execution_count": null,
      "outputs": [
        {
          "output_type": "execute_result",
          "data": {
            "text/plain": [
              "2011.52"
            ]
          },
          "metadata": {},
          "execution_count": 55
        }
      ]
    },
    {
      "cell_type": "code",
      "metadata": {
        "id": "OFucP9y6tKeo",
        "colab": {
          "base_uri": "https://localhost:8080/"
        },
        "outputId": "8f3243b8-0e4f-489a-9b2a-42b30e80d42f"
      },
      "source": [
        "0.046714965 + 0.0008"
      ],
      "execution_count": null,
      "outputs": [
        {
          "output_type": "execute_result",
          "data": {
            "text/plain": [
              "0.047514965"
            ]
          },
          "metadata": {},
          "execution_count": 56
        }
      ]
    },
    {
      "cell_type": "code",
      "metadata": {
        "id": "uvMTznKtdEl8",
        "colab": {
          "base_uri": "https://localhost:8080/"
        },
        "outputId": "9eab533d-3612-42d9-d82f-04c6f0e5a365"
      },
      "source": [
        "0.0008 * 6132"
      ],
      "execution_count": null,
      "outputs": [
        {
          "output_type": "execute_result",
          "data": {
            "text/plain": [
              "4.905600000000001"
            ]
          },
          "metadata": {},
          "execution_count": 57
        }
      ]
    },
    {
      "cell_type": "code",
      "metadata": {
        "colab": {
          "base_uri": "https://localhost:8080/"
        },
        "id": "UUgyRsejewA7",
        "outputId": "3228e044-61e0-4976-ca1f-76e7f753ab2b"
      },
      "source": [
        "3000 + 2576.530612244898 + 510.2040816326531"
      ],
      "execution_count": null,
      "outputs": [
        {
          "output_type": "execute_result",
          "data": {
            "text/plain": [
              "6086.734693877552"
            ]
          },
          "metadata": {},
          "execution_count": 58
        }
      ]
    },
    {
      "cell_type": "code",
      "metadata": {
        "id": "d1R37jgj7JS8",
        "colab": {
          "base_uri": "https://localhost:8080/"
        },
        "outputId": "9cf380d6-b2b0-48c8-9c0e-4805c4e0cb36"
      },
      "source": [
        "((6900 * 200 - 335 * 3 * 1000 - 100*1000) / 200 ) - 450"
      ],
      "execution_count": null,
      "outputs": [
        {
          "output_type": "execute_result",
          "data": {
            "text/plain": [
              "925.0"
            ]
          },
          "metadata": {},
          "execution_count": 59
        }
      ]
    },
    {
      "cell_type": "code",
      "source": [
        "tc = 195\n",
        "presupuesto = 7000\n",
        "johnny = 500\n",
        "# Placas 3070 ti\n",
        "placas = (310 * 3 * 1000) / tc\n",
        "componentes = (17850 + 19017 + 41880 + 3*1599 + 1199) / tc\n",
        "print('placas:              ', placas)\n",
        "print('componentes:         ', componentes)\n",
        "print('componentes + placas:',  componentes + placas)\n",
        "print('Profit:              ', (presupuesto) - (componentes + placas + johnny))\n",
        "print('Profit: %:           ', 100*((presupuesto) - (componentes + placas + johnny) ) / (componentes + placas))"
      ],
      "metadata": {
        "colab": {
          "base_uri": "https://localhost:8080/"
        },
        "id": "YJK9M3GsNlN8",
        "outputId": "657fa763-8023-4057-8760-6c1590704e44"
      },
      "execution_count": null,
      "outputs": [
        {
          "output_type": "stream",
          "name": "stdout",
          "text": [
            "placas:               4769.2307692307695\n",
            "componentes:          434.57948717948716\n",
            "componentes + placas: 5203.810256410256\n",
            "Profit:               1296.1897435897436\n",
            "Profit: %:            24.908474362474045\n"
          ]
        }
      ]
    },
    {
      "cell_type": "code",
      "source": [
        "total = placas + componentes + 3000\n",
        "totta"
      ],
      "metadata": {
        "id": "FJDxN0_uNsMk",
        "colab": {
          "base_uri": "https://localhost:8080/",
          "height": 186
        },
        "outputId": "758ad389-ce1c-4f5a-8fa6-08ea5d3b3193"
      },
      "execution_count": null,
      "outputs": [
        {
          "output_type": "error",
          "ename": "NameError",
          "evalue": "ignored",
          "traceback": [
            "\u001b[0;31m---------------------------------------------------------------------------\u001b[0m",
            "\u001b[0;31mNameError\u001b[0m                                 Traceback (most recent call last)",
            "\u001b[0;32m<ipython-input-61-94565f531746>\u001b[0m in \u001b[0;36m<module>\u001b[0;34m()\u001b[0m\n\u001b[1;32m      1\u001b[0m \u001b[0mtotal\u001b[0m \u001b[0;34m=\u001b[0m \u001b[0mplacas\u001b[0m \u001b[0;34m+\u001b[0m \u001b[0mcomponentes\u001b[0m \u001b[0;34m+\u001b[0m \u001b[0;36m3000\u001b[0m\u001b[0;34m\u001b[0m\u001b[0;34m\u001b[0m\u001b[0m\n\u001b[0;32m----> 2\u001b[0;31m \u001b[0mtotta\u001b[0m\u001b[0;34m\u001b[0m\u001b[0;34m\u001b[0m\u001b[0m\n\u001b[0m",
            "\u001b[0;31mNameError\u001b[0m: name 'totta' is not defined"
          ]
        }
      ]
    },
    {
      "cell_type": "code",
      "source": [
        "(310*3 - 186 - 239)*1000 / 195"
      ],
      "metadata": {
        "id": "-Lr8wYDZTkts"
      },
      "execution_count": null,
      "outputs": []
    },
    {
      "cell_type": "code",
      "source": [
        "6900 - total - 450"
      ],
      "metadata": {
        "id": "VZK2ThQ5O14k"
      },
      "execution_count": null,
      "outputs": []
    },
    {
      "cell_type": "code",
      "source": [
        "6900 - 450 "
      ],
      "metadata": {
        "id": "VxovudzdO9Et"
      },
      "execution_count": null,
      "outputs": []
    },
    {
      "cell_type": "code",
      "source": [
        "40 + 6 + 15 + 3 + 3 + 5"
      ],
      "metadata": {
        "id": "2SMWYil6TiIn"
      },
      "execution_count": null,
      "outputs": []
    },
    {
      "cell_type": "code",
      "source": [
        ""
      ],
      "metadata": {
        "id": "M4ZkfdwsY_rv"
      },
      "execution_count": null,
      "outputs": []
    }
  ]
}